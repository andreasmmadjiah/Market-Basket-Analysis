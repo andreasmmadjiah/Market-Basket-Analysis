{
 "cells": [
  {
   "cell_type": "markdown",
   "metadata": {},
   "source": [
    "# HYBRID"
   ]
  },
  {
   "cell_type": "markdown",
   "metadata": {},
   "source": [
    "<br><br>\n",
    "We use Content-Based --> Colaborative to build recomender system. The result of recomendation by Content-Based, will be further analyze and try to predict its rating using Colaborative-Filter. Rating that is more than 3 will be recomended to users. \n",
    "<br><br>\n",
    "For Content-Based, we use Cosine SImilarity as it is more accurate to detect the similarity between users. (You can see its defenition in [this link](https://towardsdatascience.com/how-to-build-from-scratch-a-content-based-movie-recommender-with-natural-language-processing-25ad400eb243)). We use data IMDB top 250 and Data from our bootcamp's class survey.\n",
    "<br><br>\n",
    "Our Thought process is in general define by :<br><b>\n",
    "1. Input your name (of course it should be in data)\n",
    "2. Use Content based to show which film is recomendeded to your name\n",
    "3. Use Collaborative to predict the rating of those recomended movies. \n",
    "4. Predicted ratings that is more than 3.7 (abritary numbers, can customize) will be recomended to user\n",
    "<br><br>\n",
    "</b>\n",
    "Noted that, in our data, we use RatingUser.csv that has only 10 movies that has been rated by users. Also see our previous Colaborative and Content Based for more explanation. Here, we fast forward. We use CountVectorizer and cosine similarity for Content Based and Use Cosine with KNN"
   ]
  },
  {
   "cell_type": "markdown",
   "metadata": {},
   "source": [
    "### Data Preprocessing"
   ]
  },
  {
   "cell_type": "code",
   "execution_count": 14,
   "metadata": {},
   "outputs": [],
   "source": [
    "import pandas as pd\n",
    "import numpy as np\n",
    "\n",
    "# For Content Based\n",
    "from sklearn.metrics.pairwise import cosine_similarity \n",
    "from sklearn.feature_extraction.text import CountVectorizer\n",
    "\n",
    "# For Collaborative Filtering\n",
    "from surprise import Dataset\n",
    "from surprise import Reader\n",
    "\n",
    "from surprise import KNNBasic\n"
   ]
  },
  {
   "cell_type": "markdown",
   "metadata": {},
   "source": [
    "<br><br>\n",
    "We read our data. There are 2 data, <i>Movie Genre.csv</i> for Content Based and <i>RatingUser.csv</i> for Colaborative. Because there are 250 movies in <i>Movie Genre.csv</i> and only 10 in <i>RatingUser.csv</i>, we only acquired those 10 films in our data.<br>"
   ]
  },
  {
   "cell_type": "code",
   "execution_count": 2,
   "metadata": {},
   "outputs": [
    {
     "data": {
      "text/plain": [
       "<bound method Series.unique of 0                         Gladiator\n",
       "1                            Wall-e\n",
       "2            Spider-Man: Homecoming\n",
       "3                  The Wizard of Oz\n",
       "4                    The Terminator\n",
       "5                              Jaws\n",
       "6                          Zootopia\n",
       "7    Guardians of the Galaxy Vol. 2\n",
       "8                      The Avengers\n",
       "9                           Aladdin\n",
       "Name: Title, dtype: object>"
      ]
     },
     "execution_count": 2,
     "metadata": {},
     "output_type": "execute_result"
    }
   ],
   "source": [
    "data1 = pd.read_csv('RatingUser.csv',delimiter=',')\n",
    "data2 = pd.read_csv('Movie Genre.csv',delimiter=';')\n",
    "\n",
    "data3=pd.DataFrame(columns=list(data2.columns))\n",
    "for i in range(data2.shape[0]):\n",
    "    if data2.iloc[i,1] in list(data1.columns):\n",
    "        dummy=[data2.iloc[i,:]]\n",
    "        data3=data3.append(dummy,ignore_index=True)\n",
    "data3['Title'].unique"
   ]
  },
  {
   "cell_type": "markdown",
   "metadata": {},
   "source": [
    "## Content-Based Recomendation System"
   ]
  },
  {
   "cell_type": "markdown",
   "metadata": {},
   "source": [
    "<br><br>\n",
    "First, Input your name in below cell. You can see which movie you already watched.\n",
    "<br>"
   ]
  },
  {
   "cell_type": "code",
   "execution_count": 3,
   "metadata": {},
   "outputs": [
    {
     "name": "stdout",
     "output_type": "stream",
     "text": [
      "\n",
      "Input names :  Mulya\n",
      "\n",
      "Movie already watched :  ['The Avengers' 'Zootopia' 'Aladdin' 'Spider-Man: Homecoming'\n",
      " 'Guardians of the Galaxy Vol. 2']\n"
     ]
    }
   ],
   "source": [
    "Name='Mulya'\n",
    "print(\"\\nInput names : \",Name)\n",
    "\n",
    "df = (data1.set_index(['Nama Anda']).stack().reset_index(name='a'))\n",
    "df.columns=['Nama Anda','Movie','Rating']\n",
    "movie_watched = np.array(df[df['Nama Anda']==Name]['Movie'])\n",
    "print('\\nMovie already watched : ',movie_watched)"
   ]
  },
  {
   "cell_type": "markdown",
   "metadata": {},
   "source": [
    "<br><br>\n",
    "We only used Rated,Genre,Language,Country,Plot,Director,Actors to determine which movies these input name likes. Then we merge those columns into one column join."
   ]
  },
  {
   "cell_type": "code",
   "execution_count": 4,
   "metadata": {},
   "outputs": [
    {
     "data": {
      "text/html": [
       "<div>\n",
       "<style scoped>\n",
       "    .dataframe tbody tr th:only-of-type {\n",
       "        vertical-align: middle;\n",
       "    }\n",
       "\n",
       "    .dataframe tbody tr th {\n",
       "        vertical-align: top;\n",
       "    }\n",
       "\n",
       "    .dataframe thead th {\n",
       "        text-align: right;\n",
       "    }\n",
       "</style>\n",
       "<table border=\"1\" class=\"dataframe\">\n",
       "  <thead>\n",
       "    <tr style=\"text-align: right;\">\n",
       "      <th></th>\n",
       "      <th>Rated</th>\n",
       "      <th>Genre</th>\n",
       "      <th>Language</th>\n",
       "      <th>Country</th>\n",
       "      <th>Plot</th>\n",
       "      <th>Director</th>\n",
       "      <th>Actors</th>\n",
       "    </tr>\n",
       "  </thead>\n",
       "  <tbody>\n",
       "    <tr>\n",
       "      <th>Gladiator</th>\n",
       "      <td>R</td>\n",
       "      <td>Action, Adventure, Drama</td>\n",
       "      <td>English</td>\n",
       "      <td>USA, UK</td>\n",
       "      <td>When a Roman general is betrayed and his famil...</td>\n",
       "      <td>Ridley Scott</td>\n",
       "      <td>Russell Crowe, Joaquin Phoenix, Connie Nielsen...</td>\n",
       "    </tr>\n",
       "    <tr>\n",
       "      <th>Wall-e</th>\n",
       "      <td>G</td>\n",
       "      <td>Animation, Adventure, Family</td>\n",
       "      <td>English</td>\n",
       "      <td>USA</td>\n",
       "      <td>In the distant future, a small waste-collectin...</td>\n",
       "      <td>Andrew Stanton</td>\n",
       "      <td>Ben Burtt, Elissa Knight, Jeff Garlin, Fred Wi...</td>\n",
       "    </tr>\n",
       "    <tr>\n",
       "      <th>Spider-Man: Homecoming</th>\n",
       "      <td>PG-13</td>\n",
       "      <td>Action, Adventure, Sci-Fi</td>\n",
       "      <td>English</td>\n",
       "      <td>USA</td>\n",
       "      <td>Peter Parker, with the help of his mentor Tony...</td>\n",
       "      <td>Jon Watts</td>\n",
       "      <td>Tom Holland, Michael Keaton, Robert Downey Jr....</td>\n",
       "    </tr>\n",
       "    <tr>\n",
       "      <th>The Wizard of Oz</th>\n",
       "      <td>G</td>\n",
       "      <td>Adventure, Family, Fantasy</td>\n",
       "      <td>English</td>\n",
       "      <td>USA</td>\n",
       "      <td>Dorothy Gale is swept away from a farm in Kans...</td>\n",
       "      <td>Victor Fleming, George Cukor, Mervyn LeRoy, No...</td>\n",
       "      <td>Judy Garland, Frank Morgan, Ray Bolger, Bert Lahr</td>\n",
       "    </tr>\n",
       "    <tr>\n",
       "      <th>The Terminator</th>\n",
       "      <td>R</td>\n",
       "      <td>Action, Sci-Fi</td>\n",
       "      <td>English, Spanish</td>\n",
       "      <td>UK, USA</td>\n",
       "      <td>A seemingly indestructible humanoid cyborg is ...</td>\n",
       "      <td>James Cameron</td>\n",
       "      <td>Arnold Schwarzenegger, Michael Biehn, Linda Ha...</td>\n",
       "    </tr>\n",
       "  </tbody>\n",
       "</table>\n",
       "</div>"
      ],
      "text/plain": [
       "                        Rated                         Genre          Language  \\\n",
       "Gladiator                   R      Action, Adventure, Drama           English   \n",
       "Wall-e                      G  Animation, Adventure, Family           English   \n",
       "Spider-Man: Homecoming  PG-13     Action, Adventure, Sci-Fi           English   \n",
       "The Wizard of Oz            G    Adventure, Family, Fantasy           English   \n",
       "The Terminator              R                Action, Sci-Fi  English, Spanish   \n",
       "\n",
       "                        Country  \\\n",
       "Gladiator               USA, UK   \n",
       "Wall-e                      USA   \n",
       "Spider-Man: Homecoming      USA   \n",
       "The Wizard of Oz            USA   \n",
       "The Terminator          UK, USA   \n",
       "\n",
       "                                                                     Plot  \\\n",
       "Gladiator               When a Roman general is betrayed and his famil...   \n",
       "Wall-e                  In the distant future, a small waste-collectin...   \n",
       "Spider-Man: Homecoming  Peter Parker, with the help of his mentor Tony...   \n",
       "The Wizard of Oz        Dorothy Gale is swept away from a farm in Kans...   \n",
       "The Terminator          A seemingly indestructible humanoid cyborg is ...   \n",
       "\n",
       "                                                                 Director  \\\n",
       "Gladiator                                                    Ridley Scott   \n",
       "Wall-e                                                     Andrew Stanton   \n",
       "Spider-Man: Homecoming                                          Jon Watts   \n",
       "The Wizard of Oz        Victor Fleming, George Cukor, Mervyn LeRoy, No...   \n",
       "The Terminator                                              James Cameron   \n",
       "\n",
       "                                                                   Actors  \n",
       "Gladiator               Russell Crowe, Joaquin Phoenix, Connie Nielsen...  \n",
       "Wall-e                  Ben Burtt, Elissa Knight, Jeff Garlin, Fred Wi...  \n",
       "Spider-Man: Homecoming  Tom Holland, Michael Keaton, Robert Downey Jr....  \n",
       "The Wizard of Oz        Judy Garland, Frank Morgan, Ray Bolger, Bert Lahr  \n",
       "The Terminator          Arnold Schwarzenegger, Michael Biehn, Linda Ha...  "
      ]
     },
     "execution_count": 4,
     "metadata": {},
     "output_type": "execute_result"
    }
   ],
   "source": [
    "data3=data3[['Title','Rated','Genre','Language','Country','Plot','Director','Actors']]\n",
    "data3=data3.set_index('Title')\n",
    "del data3.index.name\n",
    "data3.head()"
   ]
  },
  {
   "cell_type": "markdown",
   "metadata": {},
   "source": [
    "<br><br>\n",
    "We see that in Actors, Genre, there are comma. We need to remove those commas using Regex"
   ]
  },
  {
   "cell_type": "code",
   "execution_count": 5,
   "metadata": {},
   "outputs": [
    {
     "data": {
      "text/html": [
       "<div>\n",
       "<style scoped>\n",
       "    .dataframe tbody tr th:only-of-type {\n",
       "        vertical-align: middle;\n",
       "    }\n",
       "\n",
       "    .dataframe tbody tr th {\n",
       "        vertical-align: top;\n",
       "    }\n",
       "\n",
       "    .dataframe thead th {\n",
       "        text-align: right;\n",
       "    }\n",
       "</style>\n",
       "<table border=\"1\" class=\"dataframe\">\n",
       "  <thead>\n",
       "    <tr style=\"text-align: right;\">\n",
       "      <th></th>\n",
       "      <th>Join</th>\n",
       "    </tr>\n",
       "  </thead>\n",
       "  <tbody>\n",
       "    <tr>\n",
       "      <th>Gladiator</th>\n",
       "      <td>R Action Adventure Drama English USA UK When a...</td>\n",
       "    </tr>\n",
       "    <tr>\n",
       "      <th>Wall-e</th>\n",
       "      <td>G Animation Adventure Family English USA In th...</td>\n",
       "    </tr>\n",
       "    <tr>\n",
       "      <th>Spider-Man: Homecoming</th>\n",
       "      <td>PG-13 Action Adventure Sci-Fi English USA Pete...</td>\n",
       "    </tr>\n",
       "    <tr>\n",
       "      <th>The Wizard of Oz</th>\n",
       "      <td>G Adventure Family Fantasy English USA Dorothy...</td>\n",
       "    </tr>\n",
       "    <tr>\n",
       "      <th>The Terminator</th>\n",
       "      <td>R Action Sci-Fi English Spanish UK USA A seemi...</td>\n",
       "    </tr>\n",
       "  </tbody>\n",
       "</table>\n",
       "</div>"
      ],
      "text/plain": [
       "                                                                     Join\n",
       "Gladiator               R Action Adventure Drama English USA UK When a...\n",
       "Wall-e                  G Animation Adventure Family English USA In th...\n",
       "Spider-Man: Homecoming  PG-13 Action Adventure Sci-Fi English USA Pete...\n",
       "The Wizard of Oz        G Adventure Family Fantasy English USA Dorothy...\n",
       "The Terminator          R Action Sci-Fi English Spanish UK USA A seemi..."
      ]
     },
     "execution_count": 5,
     "metadata": {},
     "output_type": "execute_result"
    }
   ],
   "source": [
    "\n",
    "data3['Join']=data3.apply(lambda x: ' '.join(x), axis = 1)\n",
    "\n",
    "data3=data3.replace(regex=True,to_replace=r',',value=r'')['Join']\n",
    "data3=pd.DataFrame(data3)\n",
    "data3.head()"
   ]
  },
  {
   "cell_type": "markdown",
   "metadata": {},
   "source": [
    "<br><br>\n",
    "Now, we use CountVectorizer to count and label those columns"
   ]
  },
  {
   "cell_type": "code",
   "execution_count": 10,
   "metadata": {},
   "outputs": [],
   "source": [
    "count = CountVectorizer()\n",
    "count_matrix = count.fit_transform(data3['Join'])\n",
    "\n",
    "# generating the cosine similarity matrix\n",
    "cos_sim = cosine_similarity(count_matrix, count_matrix)\n",
    "ind=list(data3.index)\n",
    "cor=pd.DataFrame(cos_sim)\n",
    "cor.index=ind\n",
    "cor.columns=ind"
   ]
  },
  {
   "cell_type": "markdown",
   "metadata": {},
   "source": [
    "<br><br><br>\n",
    "Then, we sort 3 best movies that is highly corelated to our already watched movies"
   ]
  },
  {
   "cell_type": "code",
   "execution_count": 11,
   "metadata": {},
   "outputs": [
    {
     "name": "stdout",
     "output_type": "stream",
     "text": [
      "Film Recomendation : \n",
      " ['Gladiator', 'The Wizard of Oz', 'The Terminator']\n"
     ]
    }
   ],
   "source": [
    "rec=cor[movie_watched].drop(index=movie_watched)\n",
    "rec2=pd.DataFrame(rec.mean(axis=1),columns=['Score']).sort_values('Score',ascending=False)\n",
    "recomendation = list(rec2.index[:3])\n",
    "print('Film Recomendation : \\n',recomendation)"
   ]
  },
  {
   "cell_type": "code",
   "execution_count": 12,
   "metadata": {},
   "outputs": [
    {
     "data": {
      "text/html": [
       "<div>\n",
       "<style scoped>\n",
       "    .dataframe tbody tr th:only-of-type {\n",
       "        vertical-align: middle;\n",
       "    }\n",
       "\n",
       "    .dataframe tbody tr th {\n",
       "        vertical-align: top;\n",
       "    }\n",
       "\n",
       "    .dataframe thead th {\n",
       "        text-align: right;\n",
       "    }\n",
       "</style>\n",
       "<table border=\"1\" class=\"dataframe\">\n",
       "  <thead>\n",
       "    <tr style=\"text-align: right;\">\n",
       "      <th></th>\n",
       "      <th>Score</th>\n",
       "    </tr>\n",
       "  </thead>\n",
       "  <tbody>\n",
       "    <tr>\n",
       "      <th>Gladiator</th>\n",
       "      <td>0.217172</td>\n",
       "    </tr>\n",
       "    <tr>\n",
       "      <th>The Wizard of Oz</th>\n",
       "      <td>0.205308</td>\n",
       "    </tr>\n",
       "    <tr>\n",
       "      <th>The Terminator</th>\n",
       "      <td>0.194138</td>\n",
       "    </tr>\n",
       "    <tr>\n",
       "      <th>Jaws</th>\n",
       "      <td>0.187981</td>\n",
       "    </tr>\n",
       "    <tr>\n",
       "      <th>Wall-e</th>\n",
       "      <td>0.161400</td>\n",
       "    </tr>\n",
       "  </tbody>\n",
       "</table>\n",
       "</div>"
      ],
      "text/plain": [
       "                     Score\n",
       "Gladiator         0.217172\n",
       "The Wizard of Oz  0.205308\n",
       "The Terminator    0.194138\n",
       "Jaws              0.187981\n",
       "Wall-e            0.161400"
      ]
     },
     "execution_count": 12,
     "metadata": {},
     "output_type": "execute_result"
    }
   ],
   "source": [
    "pd.DataFrame(rec.mean(axis=1),columns=['Score']).sort_values('Score',ascending=False)"
   ]
  },
  {
   "cell_type": "markdown",
   "metadata": {},
   "source": [
    "<br><br>\n",
    "Using Content Based, it is recomended to watch Gladiator, The Wizard of Oz, and The Terminator. Now we predict which movie has the highest ratings"
   ]
  },
  {
   "cell_type": "markdown",
   "metadata": {},
   "source": [
    "## Collaborative"
   ]
  },
  {
   "cell_type": "markdown",
   "metadata": {},
   "source": [
    "<br><br>\n",
    "We use KNNBasic and Cosine to calculate the similarity between users"
   ]
  },
  {
   "cell_type": "code",
   "execution_count": 15,
   "metadata": {},
   "outputs": [
    {
     "data": {
      "text/html": [
       "<div>\n",
       "<style scoped>\n",
       "    .dataframe tbody tr th:only-of-type {\n",
       "        vertical-align: middle;\n",
       "    }\n",
       "\n",
       "    .dataframe tbody tr th {\n",
       "        vertical-align: top;\n",
       "    }\n",
       "\n",
       "    .dataframe thead th {\n",
       "        text-align: right;\n",
       "    }\n",
       "</style>\n",
       "<table border=\"1\" class=\"dataframe\">\n",
       "  <thead>\n",
       "    <tr style=\"text-align: right;\">\n",
       "      <th></th>\n",
       "      <th>Nama Anda</th>\n",
       "      <th>Movie</th>\n",
       "      <th>Rating</th>\n",
       "    </tr>\n",
       "  </thead>\n",
       "  <tbody>\n",
       "    <tr>\n",
       "      <th>0</th>\n",
       "      <td>Hania</td>\n",
       "      <td>Wall-e</td>\n",
       "      <td>3.0</td>\n",
       "    </tr>\n",
       "    <tr>\n",
       "      <th>1</th>\n",
       "      <td>Hania</td>\n",
       "      <td>The Terminator</td>\n",
       "      <td>5.0</td>\n",
       "    </tr>\n",
       "    <tr>\n",
       "      <th>2</th>\n",
       "      <td>Hania</td>\n",
       "      <td>The Wizard of Oz</td>\n",
       "      <td>4.0</td>\n",
       "    </tr>\n",
       "    <tr>\n",
       "      <th>3</th>\n",
       "      <td>Hania</td>\n",
       "      <td>Jaws</td>\n",
       "      <td>4.0</td>\n",
       "    </tr>\n",
       "    <tr>\n",
       "      <th>4</th>\n",
       "      <td>Hania</td>\n",
       "      <td>Gladiator</td>\n",
       "      <td>4.0</td>\n",
       "    </tr>\n",
       "  </tbody>\n",
       "</table>\n",
       "</div>"
      ],
      "text/plain": [
       "  Nama Anda             Movie  Rating\n",
       "0     Hania            Wall-e     3.0\n",
       "1     Hania    The Terminator     5.0\n",
       "2     Hania  The Wizard of Oz     4.0\n",
       "3     Hania              Jaws     4.0\n",
       "4     Hania         Gladiator     4.0"
      ]
     },
     "execution_count": 15,
     "metadata": {},
     "output_type": "execute_result"
    }
   ],
   "source": [
    "df.head()"
   ]
  },
  {
   "cell_type": "code",
   "execution_count": 16,
   "metadata": {},
   "outputs": [],
   "source": [
    "reader = Reader(rating_scale=(1, 5))\n",
    "\n",
    "# Loads Pandas dataframe\n",
    "data = Dataset.load_from_df(df, reader)"
   ]
  },
  {
   "cell_type": "code",
   "execution_count": 17,
   "metadata": {},
   "outputs": [],
   "source": [
    "# To use item-based cosine similarity\n",
    "sim_options = {\n",
    "    \"name\": \"cosine\",\n",
    "    \"user_based\": True,  # Compute  similarities between items\n",
    "}\n",
    "algo = KNNBasic(sim_options=sim_options)"
   ]
  },
  {
   "cell_type": "code",
   "execution_count": 18,
   "metadata": {},
   "outputs": [
    {
     "name": "stdout",
     "output_type": "stream",
     "text": [
      "Computing the cosine similarity matrix...\n",
      "Done computing similarity matrix.\n",
      "Computing the cosine similarity matrix...\n",
      "Done computing similarity matrix.\n"
     ]
    },
    {
     "data": {
      "text/plain": [
       "Hania            0.0\n",
       "Romantika        0.0\n",
       "Indra 1991 SM    0.0\n",
       "Name: Mulya, dtype: float64"
      ]
     },
     "execution_count": 18,
     "metadata": {},
     "output_type": "execute_result"
    }
   ],
   "source": [
    "trainingSet = data.build_full_trainset()\n",
    "\n",
    "algo.fit(trainingSet)\n",
    "Sim=pd.DataFrame(algo.compute_similarities(),index=list(df['Nama Anda'].unique()),columns=list(df['Nama Anda'].unique()))\n",
    "Sim.index=list(df['Nama Anda'].unique())\n",
    "Sim[Name][Sim[Name]==0].sort_values()"
   ]
  },
  {
   "cell_type": "markdown",
   "metadata": {},
   "source": [
    "<br><br><br>\n",
    "Using Cosine, we find 3 users that are not highly corelated. If we see below, we can see that it's because between Mulya and those 3 users, there are no similiarity between movies that already been rated. "
   ]
  },
  {
   "cell_type": "code",
   "execution_count": 19,
   "metadata": {},
   "outputs": [
    {
     "name": "stdout",
     "output_type": "stream",
     "text": [
      "    Nama Anda             Movie  Rating\n",
      "67  Romantika            Wall-e     5.0\n",
      "68  Romantika  The Wizard of Oz     5.0\n",
      "  Nama Anda             Movie  Rating\n",
      "0     Hania            Wall-e     3.0\n",
      "1     Hania    The Terminator     5.0\n",
      "2     Hania  The Wizard of Oz     4.0\n",
      "3     Hania              Jaws     4.0\n",
      "4     Hania         Gladiator     4.0\n",
      "   Nama Anda                           Movie  Rating\n",
      "28     Mulya                    The Avengers     4.0\n",
      "29     Mulya                        Zootopia     2.0\n",
      "30     Mulya                         Aladdin     5.0\n",
      "31     Mulya          Spider-Man: Homecoming     4.0\n",
      "32     Mulya  Guardians of the Galaxy Vol. 2     3.0\n"
     ]
    }
   ],
   "source": [
    "compar=pd.DataFrame()\n",
    "print(df[df['Nama Anda']=='Romantika'])\n",
    "print(df[df['Nama Anda']=='Hania'])\n",
    "print(df[df['Nama Anda']=='Mulya'])"
   ]
  },
  {
   "cell_type": "markdown",
   "metadata": {},
   "source": [
    "<br><br>\n",
    "Now, we predict the ratings of recomended movies by Content Based"
   ]
  },
  {
   "cell_type": "code",
   "execution_count": 21,
   "metadata": {},
   "outputs": [],
   "source": [
    "Movie=df['Movie'].unique()\n",
    "rec2=[]\n",
    "for i in Movie:\n",
    "    if i not in movie_watched:\n",
    "        prediction = algo.predict(Name, i)\n",
    "        rec2.append([i,Name,float(prediction.est)])\n",
    "rec2=pd.DataFrame(rec2)\n",
    "rec2.columns=['Movie','User','Predicted Rating']\n"
   ]
  },
  {
   "cell_type": "code",
   "execution_count": 22,
   "metadata": {},
   "outputs": [
    {
     "data": {
      "text/html": [
       "<div>\n",
       "<style scoped>\n",
       "    .dataframe tbody tr th:only-of-type {\n",
       "        vertical-align: middle;\n",
       "    }\n",
       "\n",
       "    .dataframe tbody tr th {\n",
       "        vertical-align: top;\n",
       "    }\n",
       "\n",
       "    .dataframe thead th {\n",
       "        text-align: right;\n",
       "    }\n",
       "</style>\n",
       "<table border=\"1\" class=\"dataframe\">\n",
       "  <thead>\n",
       "    <tr style=\"text-align: right;\">\n",
       "      <th></th>\n",
       "      <th>Movie</th>\n",
       "      <th>User</th>\n",
       "      <th>Predicted Rating</th>\n",
       "    </tr>\n",
       "  </thead>\n",
       "  <tbody>\n",
       "    <tr>\n",
       "      <th>1</th>\n",
       "      <td>The Terminator</td>\n",
       "      <td>Mulya</td>\n",
       "      <td>3.727418</td>\n",
       "    </tr>\n",
       "    <tr>\n",
       "      <th>2</th>\n",
       "      <td>The Wizard of Oz</td>\n",
       "      <td>Mulya</td>\n",
       "      <td>3.601987</td>\n",
       "    </tr>\n",
       "    <tr>\n",
       "      <th>4</th>\n",
       "      <td>Gladiator</td>\n",
       "      <td>Mulya</td>\n",
       "      <td>3.729781</td>\n",
       "    </tr>\n",
       "  </tbody>\n",
       "</table>\n",
       "</div>"
      ],
      "text/plain": [
       "              Movie   User  Predicted Rating\n",
       "1    The Terminator  Mulya          3.727418\n",
       "2  The Wizard of Oz  Mulya          3.601987\n",
       "4         Gladiator  Mulya          3.729781"
      ]
     },
     "execution_count": 22,
     "metadata": {},
     "output_type": "execute_result"
    }
   ],
   "source": [
    "pred_rat=pd.DataFrame(columns=list(rec2.columns))\n",
    "for i in range(rec2.shape[0]):\n",
    "    if rec2.iloc[i,0] in recomendation:\n",
    "        pred_rat=pred_rat.append([rec2.iloc[i,:]])\n",
    "pred_rat"
   ]
  },
  {
   "cell_type": "markdown",
   "metadata": {},
   "source": [
    "<br><br><br>\n",
    "We get the predicted result above, it's quite similiar. Now we get the highest predicted ratings to be recomended to users"
   ]
  },
  {
   "cell_type": "code",
   "execution_count": 27,
   "metadata": {},
   "outputs": [
    {
     "name": "stdout",
     "output_type": "stream",
     "text": [
      "User Mulya is recomended to watch ['The Terminator', 'Gladiator']\n"
     ]
    }
   ],
   "source": [
    "rec_user=pred_rat[pred_rat['Predicted Rating']>=3.7]\n",
    "print('User {} is recomended to watch {}'.format(Name,rec_user['Movie'].tolist()))"
   ]
  },
  {
   "cell_type": "markdown",
   "metadata": {},
   "source": [
    "### Conclusion\n",
    "\n",
    "Using Hybrid of Content Based and Colaborative, we got the recomendation movies for user, that is the movies that is similiar of content and has predicted ratings more than 3.7 . "
   ]
  },
  {
   "cell_type": "code",
   "execution_count": null,
   "metadata": {},
   "outputs": [],
   "source": []
  }
 ],
 "metadata": {
  "kernelspec": {
   "display_name": "Python 3",
   "language": "python",
   "name": "python3"
  },
  "language_info": {
   "codemirror_mode": {
    "name": "ipython",
    "version": 3
   },
   "file_extension": ".py",
   "mimetype": "text/x-python",
   "name": "python",
   "nbconvert_exporter": "python",
   "pygments_lexer": "ipython3",
   "version": "3.7.3"
  }
 },
 "nbformat": 4,
 "nbformat_minor": 2
}
