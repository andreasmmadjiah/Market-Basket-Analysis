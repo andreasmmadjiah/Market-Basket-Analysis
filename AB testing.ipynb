{
 "cells": [
  {
   "cell_type": "markdown",
   "metadata": {},
   "source": [
    "# A/B TESTING"
   ]
  },
  {
   "cell_type": "markdown",
   "metadata": {},
   "source": [
    "We Get our dataset from [this link](https://www.kaggle.com/tammyrotem/control-data/) and [this link](https://www.kaggle.com/tammyrotem/experiment-data/)"
   ]
  },
  {
   "cell_type": "markdown",
   "metadata": {},
   "source": [
    "**OVERVIEW**<br><br>\n",
    "We do AB testing on data from Udacity. We quoted [This Link](https://docs.google.com/document/u/1/d/1aCquhIqsUApgsxQ8-SQBAigFDcfWVVohLEXcV6jWbdI/pub?embedded=True) to get the explanation of the experiment :\n",
    "\n",
    "\"<i>\n",
    "At the time of this experiment, Udacity courses currently have two options on the course overview page: \"start free trial\", and \"access course materials\". If the student clicks \"start free trial\", they will be asked to enter their credit card information, and then they will be enrolled in a free trial for the paid version of the course. After 14 days, they will automatically be charged unless they cancel first. If the student clicks \"access course materials\", they will be able to view the videos and take the quizzes for free, but they will not receive coaching support or a verified certificate, and they will not submit their final project for feedback.\n",
    "\n",
    "\n",
    "In the experiment, Udacity tested a change where if the student clicked \"start free trial\", they were asked how much time they had available to devote to the course. If the student indicated 5 or more hours per week, they would be taken through the checkout process as usual. If they indicated fewer than 5 hours per week, a message would appear indicating that Udacity courses usually require a greater time commitment for successful completion, and suggesting that the student might like to access the course materials for free. At this point, the student would have the option to continue enrolling in the free trial, or access the course materials for free instead. This [screenshot](https://drive.google.com/file/d/0ByAfiG8HpNUMakVrS0s4cGN2TjQ/view) shows what the experiment looks like.\n",
    "\n",
    "The hypothesis was that this might set clearer expectations for students upfront, thus reducing the number of frustrated students who left the free trial because they didn't have enough time—without significantly reducing the number of students to continue past the free trial and eventually complete the course. If this hypothesis held true, Udacity could improve the overall student experience and improve coaches' capacity to support students who are likely to complete the course.</i>\"\n",
    "\n",
    "**In other words, we want to know if with the experiment, students will be likely to access free course thus do not click free trial (because there are clearer expectation and this make student do not waste their free time). But, because the number of student who will be likely to click free course is the one with the comitment to more than 5 hours per week, they will, eventualy pay to further comitted in this course. We want to check this statement using various method.** <br><br>\n",
    "Our thought process is : \n",
    "1. Expanatory data Analysis to find the difference between control and variation visually\n",
    "2. Using various statistic test, determine is there any significance difference between them statiscaly. "
   ]
  },
  {
   "cell_type": "markdown",
   "metadata": {},
   "source": [
    "# Data Preprocessing\n",
    "<br><br>\n",
    "First we import the necesary modules"
   ]
  },
  {
   "cell_type": "code",
   "execution_count": 87,
   "metadata": {},
   "outputs": [],
   "source": [
    "import pandas as pd\n",
    "import numpy as np\n",
    "import matplotlib.pyplot as plt\n",
    "import seaborn as sns\n",
    "import scipy.stats as stats\n",
    "from statsmodels.graphics.gofplots import qqplot"
   ]
  },
  {
   "cell_type": "markdown",
   "metadata": {},
   "source": [
    "<br><br>\n",
    "We import our data and do a little bit explanotory data. "
   ]
  },
  {
   "cell_type": "code",
   "execution_count": 33,
   "metadata": {},
   "outputs": [
    {
     "data": {
      "text/html": [
       "<div>\n",
       "<style scoped>\n",
       "    .dataframe tbody tr th:only-of-type {\n",
       "        vertical-align: middle;\n",
       "    }\n",
       "\n",
       "    .dataframe tbody tr th {\n",
       "        vertical-align: top;\n",
       "    }\n",
       "\n",
       "    .dataframe thead th {\n",
       "        text-align: right;\n",
       "    }\n",
       "</style>\n",
       "<table border=\"1\" class=\"dataframe\">\n",
       "  <thead>\n",
       "    <tr style=\"text-align: right;\">\n",
       "      <th></th>\n",
       "      <th>Date</th>\n",
       "      <th>Pageviews</th>\n",
       "      <th>Clicks</th>\n",
       "      <th>Enrollments</th>\n",
       "      <th>Payments</th>\n",
       "    </tr>\n",
       "  </thead>\n",
       "  <tbody>\n",
       "    <tr>\n",
       "      <th>0</th>\n",
       "      <td>Sat, Oct 11</td>\n",
       "      <td>7723</td>\n",
       "      <td>687</td>\n",
       "      <td>134.0</td>\n",
       "      <td>70.0</td>\n",
       "    </tr>\n",
       "    <tr>\n",
       "      <th>1</th>\n",
       "      <td>Sun, Oct 12</td>\n",
       "      <td>9102</td>\n",
       "      <td>779</td>\n",
       "      <td>147.0</td>\n",
       "      <td>70.0</td>\n",
       "    </tr>\n",
       "    <tr>\n",
       "      <th>2</th>\n",
       "      <td>Mon, Oct 13</td>\n",
       "      <td>10511</td>\n",
       "      <td>909</td>\n",
       "      <td>167.0</td>\n",
       "      <td>95.0</td>\n",
       "    </tr>\n",
       "    <tr>\n",
       "      <th>3</th>\n",
       "      <td>Tue, Oct 14</td>\n",
       "      <td>9871</td>\n",
       "      <td>836</td>\n",
       "      <td>156.0</td>\n",
       "      <td>105.0</td>\n",
       "    </tr>\n",
       "    <tr>\n",
       "      <th>4</th>\n",
       "      <td>Wed, Oct 15</td>\n",
       "      <td>10014</td>\n",
       "      <td>837</td>\n",
       "      <td>163.0</td>\n",
       "      <td>64.0</td>\n",
       "    </tr>\n",
       "  </tbody>\n",
       "</table>\n",
       "</div>"
      ],
      "text/plain": [
       "          Date  Pageviews  Clicks  Enrollments  Payments\n",
       "0  Sat, Oct 11       7723     687        134.0      70.0\n",
       "1  Sun, Oct 12       9102     779        147.0      70.0\n",
       "2  Mon, Oct 13      10511     909        167.0      95.0\n",
       "3  Tue, Oct 14       9871     836        156.0     105.0\n",
       "4  Wed, Oct 15      10014     837        163.0      64.0"
      ]
     },
     "execution_count": 33,
     "metadata": {},
     "output_type": "execute_result"
    }
   ],
   "source": [
    "data_c = pd.read_csv('control_data.csv')\n",
    "data_v = pd.read_csv('experiment_data.csv')\n",
    "data_c.head()"
   ]
  },
  {
   "cell_type": "code",
   "execution_count": 3,
   "metadata": {
    "scrolled": true
   },
   "outputs": [
    {
     "data": {
      "text/html": [
       "<div>\n",
       "<style scoped>\n",
       "    .dataframe tbody tr th:only-of-type {\n",
       "        vertical-align: middle;\n",
       "    }\n",
       "\n",
       "    .dataframe tbody tr th {\n",
       "        vertical-align: top;\n",
       "    }\n",
       "\n",
       "    .dataframe thead th {\n",
       "        text-align: right;\n",
       "    }\n",
       "</style>\n",
       "<table border=\"1\" class=\"dataframe\">\n",
       "  <thead>\n",
       "    <tr style=\"text-align: right;\">\n",
       "      <th></th>\n",
       "      <th>Date</th>\n",
       "      <th>Pageviews</th>\n",
       "      <th>Clicks</th>\n",
       "      <th>Enrollments</th>\n",
       "      <th>Payments</th>\n",
       "    </tr>\n",
       "  </thead>\n",
       "  <tbody>\n",
       "    <tr>\n",
       "      <th>0</th>\n",
       "      <td>Sat, Oct 11</td>\n",
       "      <td>7716</td>\n",
       "      <td>686</td>\n",
       "      <td>105.0</td>\n",
       "      <td>34.0</td>\n",
       "    </tr>\n",
       "    <tr>\n",
       "      <th>1</th>\n",
       "      <td>Sun, Oct 12</td>\n",
       "      <td>9288</td>\n",
       "      <td>785</td>\n",
       "      <td>116.0</td>\n",
       "      <td>91.0</td>\n",
       "    </tr>\n",
       "    <tr>\n",
       "      <th>2</th>\n",
       "      <td>Mon, Oct 13</td>\n",
       "      <td>10480</td>\n",
       "      <td>884</td>\n",
       "      <td>145.0</td>\n",
       "      <td>79.0</td>\n",
       "    </tr>\n",
       "    <tr>\n",
       "      <th>3</th>\n",
       "      <td>Tue, Oct 14</td>\n",
       "      <td>9867</td>\n",
       "      <td>827</td>\n",
       "      <td>138.0</td>\n",
       "      <td>92.0</td>\n",
       "    </tr>\n",
       "    <tr>\n",
       "      <th>4</th>\n",
       "      <td>Wed, Oct 15</td>\n",
       "      <td>9793</td>\n",
       "      <td>832</td>\n",
       "      <td>140.0</td>\n",
       "      <td>94.0</td>\n",
       "    </tr>\n",
       "  </tbody>\n",
       "</table>\n",
       "</div>"
      ],
      "text/plain": [
       "          Date  Pageviews  Clicks  Enrollments  Payments\n",
       "0  Sat, Oct 11       7716     686        105.0      34.0\n",
       "1  Sun, Oct 12       9288     785        116.0      91.0\n",
       "2  Mon, Oct 13      10480     884        145.0      79.0\n",
       "3  Tue, Oct 14       9867     827        138.0      92.0\n",
       "4  Wed, Oct 15       9793     832        140.0      94.0"
      ]
     },
     "execution_count": 3,
     "metadata": {},
     "output_type": "execute_result"
    }
   ],
   "source": [
    "data_v.head()"
   ]
  },
  {
   "cell_type": "markdown",
   "metadata": {},
   "source": [
    "<br><br>\n",
    "Our data, is grouped on Date between Oct 11 to Nov 16. The meaning of each column is: <br><br>\n",
    "\n",
    "- **Pageviews**: Number of unique cookies to view the course overview page that day.\n",
    "- **Clicks**: Number of unique cookies to click the course overview page that day.\n",
    "- **Enrollments**: Number of user-ids to enroll in the free trial that day.\n",
    "- **Payments**: Number of user-ids who who enrolled on that day to remain enrolled for 14 days and thus make a payment. (Note that the date for this column is the start date, that is, the date of enrollment, rather than the date of the payment. The payment happened 14 days later. Because of this, the enrollments and payments are tracked for 14 fewer days than the other columns.)"
   ]
  },
  {
   "cell_type": "code",
   "execution_count": 4,
   "metadata": {},
   "outputs": [
    {
     "name": "stdout",
     "output_type": "stream",
     "text": [
      "Number of unique Date :  37\n",
      "Date            0\n",
      "Pageviews       0\n",
      "Clicks          0\n",
      "Enrollments    14\n",
      "Payments       14\n",
      "dtype: int64\n",
      "           Date  Pageviews  Clicks  Enrollments  Payments\n",
      "23   Mon, Nov 3       9437     788          NaN       NaN\n",
      "24   Tue, Nov 4       9420     781          NaN       NaN\n",
      "25   Wed, Nov 5       9570     805          NaN       NaN\n",
      "26   Thu, Nov 6       9921     830          NaN       NaN\n",
      "27   Fri, Nov 7       9424     781          NaN       NaN\n",
      "28   Sat, Nov 8       9010     756          NaN       NaN\n",
      "29   Sun, Nov 9       9656     825          NaN       NaN\n",
      "30  Mon, Nov 10      10419     874          NaN       NaN\n",
      "31  Tue, Nov 11       9880     830          NaN       NaN\n",
      "32  Wed, Nov 12      10134     801          NaN       NaN\n",
      "33  Thu, Nov 13       9717     814          NaN       NaN\n",
      "34  Fri, Nov 14       9192     735          NaN       NaN\n",
      "35  Sat, Nov 15       8630     743          NaN       NaN\n",
      "36  Sun, Nov 16       8970     722          NaN       NaN\n"
     ]
    }
   ],
   "source": [
    "print('Number of unique Date : ',len(data_c['Date'].unique())) \n",
    "print(data_c.isnull().sum())\n",
    "print(data_c[data_c['Enrollments'].isnull()])"
   ]
  },
  {
   "cell_type": "markdown",
   "metadata": {},
   "source": [
    "<br><br>\n",
    "For this reason, because we want to know if there are difference between student who enrolled and who do the payments, we drop other variables. We also drop those null observation as our main focus is enrollements and payments. But, before we jumped down into those, see different between number of people who cliked the course overview below :"
   ]
  },
  {
   "cell_type": "code",
   "execution_count": 34,
   "metadata": {},
   "outputs": [],
   "source": [
    "a=data_c\n",
    "b=data_v\n",
    "data_c=data_c.dropna()\n",
    "data_v=data_v.dropna()"
   ]
  },
  {
   "cell_type": "code",
   "execution_count": 35,
   "metadata": {},
   "outputs": [
    {
     "name": "stdout",
     "output_type": "stream",
     "text": [
      "Average difference between clicks on experiment :  1.434782608695652\n"
     ]
    },
    {
     "data": {
      "text/plain": [
       "0      1\n",
       "1     -6\n",
       "2     25\n",
       "3      9\n",
       "4      5\n",
       "5     35\n",
       "6    -32\n",
       "7    -20\n",
       "8     -6\n",
       "9      1\n",
       "10     3\n",
       "11    37\n",
       "12    23\n",
       "13   -24\n",
       "14    22\n",
       "15    15\n",
       "16   -12\n",
       "17     0\n",
       "18    12\n",
       "19     6\n",
       "20   -16\n",
       "21   -14\n",
       "22   -31\n",
       "Name: Clicks, dtype: int64"
      ]
     },
     "execution_count": 35,
     "metadata": {},
     "output_type": "execute_result"
    }
   ],
   "source": [
    "diff_page = data_c['Clicks']-data_v['Clicks']\n",
    "print('Average difference between clicks on experiment : ',diff_page.mean())\n",
    "diff_page"
   ]
  },
  {
   "cell_type": "markdown",
   "metadata": {},
   "source": [
    "<br><br>\n",
    "In result above, negative means ' Control ' Has less clicks than ' Variants ' and positive means ' Control ' has more clicked than ' Variants '. If we average these result, we get 1.4348 means on average, ' Control ' has 1.4348 more clicks than ' Variants '. Because this number is not to significant, we ignore these result and assume people who visited couse with course design ' Control ' is the same with ' Variants '"
   ]
  },
  {
   "cell_type": "code",
   "execution_count": 36,
   "metadata": {},
   "outputs": [],
   "source": [
    "data_c = data_c.drop(columns=['Date','Pageviews','Clicks'])\n",
    "data_v = data_v.drop(columns=['Date','Pageviews','Clicks'])"
   ]
  },
  {
   "cell_type": "code",
   "execution_count": 37,
   "metadata": {},
   "outputs": [
    {
     "data": {
      "text/html": [
       "<div>\n",
       "<style scoped>\n",
       "    .dataframe tbody tr th:only-of-type {\n",
       "        vertical-align: middle;\n",
       "    }\n",
       "\n",
       "    .dataframe tbody tr th {\n",
       "        vertical-align: top;\n",
       "    }\n",
       "\n",
       "    .dataframe thead th {\n",
       "        text-align: right;\n",
       "    }\n",
       "</style>\n",
       "<table border=\"1\" class=\"dataframe\">\n",
       "  <thead>\n",
       "    <tr style=\"text-align: right;\">\n",
       "      <th></th>\n",
       "      <th>Enrollments</th>\n",
       "      <th>Payments</th>\n",
       "    </tr>\n",
       "  </thead>\n",
       "  <tbody>\n",
       "    <tr>\n",
       "      <th>count</th>\n",
       "      <td>0.000000</td>\n",
       "      <td>0.000000</td>\n",
       "    </tr>\n",
       "    <tr>\n",
       "      <th>mean</th>\n",
       "      <td>15.739130</td>\n",
       "      <td>3.826087</td>\n",
       "    </tr>\n",
       "    <tr>\n",
       "      <th>std</th>\n",
       "      <td>-3.257226</td>\n",
       "      <td>-2.410639</td>\n",
       "    </tr>\n",
       "    <tr>\n",
       "      <th>min</th>\n",
       "      <td>16.000000</td>\n",
       "      <td>22.000000</td>\n",
       "    </tr>\n",
       "    <tr>\n",
       "      <th>25%</th>\n",
       "      <td>19.500000</td>\n",
       "      <td>1.000000</td>\n",
       "    </tr>\n",
       "    <tr>\n",
       "      <th>50%</th>\n",
       "      <td>20.000000</td>\n",
       "      <td>0.000000</td>\n",
       "    </tr>\n",
       "    <tr>\n",
       "      <th>75%</th>\n",
       "      <td>3.000000</td>\n",
       "      <td>3.500000</td>\n",
       "    </tr>\n",
       "    <tr>\n",
       "      <th>max</th>\n",
       "      <td>20.000000</td>\n",
       "      <td>5.000000</td>\n",
       "    </tr>\n",
       "  </tbody>\n",
       "</table>\n",
       "</div>"
      ],
      "text/plain": [
       "       Enrollments   Payments\n",
       "count     0.000000   0.000000\n",
       "mean     15.739130   3.826087\n",
       "std      -3.257226  -2.410639\n",
       "min      16.000000  22.000000\n",
       "25%      19.500000   1.000000\n",
       "50%      20.000000   0.000000\n",
       "75%       3.000000   3.500000\n",
       "max      20.000000   5.000000"
      ]
     },
     "execution_count": 37,
     "metadata": {},
     "output_type": "execute_result"
    }
   ],
   "source": [
    "des_c=data_c.describe()\n",
    "des_v=data_v.describe()\n",
    "des_c-des_v\n"
   ]
  },
  {
   "cell_type": "markdown",
   "metadata": {},
   "source": [
    "<br><br>\n",
    "If we comppared the statistic descriptive difference between those groups, we have positive number of those 2 columns except std. This, means that statisticaly, user in ' Control ' has more student who Enroll and Pay in the next 14 days rather than ' Payments '. To make us more convincing, we use distplot below "
   ]
  },
  {
   "cell_type": "code",
   "execution_count": 38,
   "metadata": {},
   "outputs": [
    {
     "data": {
      "image/png": "[encoded data removed]",
      "text/plain": [
       "<Figure size 1080x504 with 2 Axes>"
      ]
     },
     "metadata": {
      "needs_background": "light"
     },
     "output_type": "display_data"
    }
   ],
   "source": [
    "f = plt.figure(figsize=(15,7))\n",
    "i=1\n",
    "column = data_c.columns\n",
    "for col in column:\n",
    "    f.add_subplot(1,2,i)\n",
    "    sns.distplot(data_c[col],label='Control',hist=True)\n",
    "    sns.distplot(data_v[col],color='red',label='Variants',hist=True)\n",
    "    plt.xticks(rotation=90,fontsize=10)\n",
    "    plt.title(col)\n",
    "    plt.legend()\n",
    "    plt.xlabel(\"\")\n",
    "    i+=1\n",
    "\n",
    "plt.show()"
   ]
  },
  {
   "cell_type": "markdown",
   "metadata": {},
   "source": [
    "<br><br>\n",
    "It looks like in column Enrollments, *Variants* is in general has less users rather than *Control*. In *Payment* however, we see that they are kinda similar or even *Control* has higher value than *Variants*"
   ]
  },
  {
   "cell_type": "code",
   "execution_count": 48,
   "metadata": {},
   "outputs": [
    {
     "data": {
      "text/html": [
       "<div>\n",
       "<style scoped>\n",
       "    .dataframe tbody tr th:only-of-type {\n",
       "        vertical-align: middle;\n",
       "    }\n",
       "\n",
       "    .dataframe tbody tr th {\n",
       "        vertical-align: top;\n",
       "    }\n",
       "\n",
       "    .dataframe thead th {\n",
       "        text-align: right;\n",
       "    }\n",
       "</style>\n",
       "<table border=\"1\" class=\"dataframe\">\n",
       "  <thead>\n",
       "    <tr style=\"text-align: right;\">\n",
       "      <th></th>\n",
       "      <th>Enrollments</th>\n",
       "      <th>Payments</th>\n",
       "      <th>Type</th>\n",
       "    </tr>\n",
       "  </thead>\n",
       "  <tbody>\n",
       "    <tr>\n",
       "      <th>0</th>\n",
       "      <td>134.0</td>\n",
       "      <td>70.0</td>\n",
       "      <td>control</td>\n",
       "    </tr>\n",
       "    <tr>\n",
       "      <th>1</th>\n",
       "      <td>147.0</td>\n",
       "      <td>70.0</td>\n",
       "      <td>control</td>\n",
       "    </tr>\n",
       "    <tr>\n",
       "      <th>2</th>\n",
       "      <td>167.0</td>\n",
       "      <td>95.0</td>\n",
       "      <td>control</td>\n",
       "    </tr>\n",
       "    <tr>\n",
       "      <th>3</th>\n",
       "      <td>156.0</td>\n",
       "      <td>105.0</td>\n",
       "      <td>control</td>\n",
       "    </tr>\n",
       "    <tr>\n",
       "      <th>4</th>\n",
       "      <td>163.0</td>\n",
       "      <td>64.0</td>\n",
       "      <td>control</td>\n",
       "    </tr>\n",
       "  </tbody>\n",
       "</table>\n",
       "</div>"
      ],
      "text/plain": [
       "   Enrollments  Payments     Type\n",
       "0        134.0      70.0  control\n",
       "1        147.0      70.0  control\n",
       "2        167.0      95.0  control\n",
       "3        156.0     105.0  control\n",
       "4        163.0      64.0  control"
      ]
     },
     "execution_count": 48,
     "metadata": {},
     "output_type": "execute_result"
    }
   ],
   "source": [
    "data=data_c.append(data_v)\n",
    "a=['control']*23\n",
    "b=['variants']*23\n",
    "data['Type']=a+b\n",
    "data.head()"
   ]
  },
  {
   "cell_type": "code",
   "execution_count": 49,
   "metadata": {},
   "outputs": [
    {
     "data": {
      "image/png": "[encoded data removed]",
      "text/plain": [
       "<Figure size 1080x360 with 2 Axes>"
      ]
     },
     "metadata": {
      "needs_background": "light"
     },
     "output_type": "display_data"
    }
   ],
   "source": [
    "f = plt.figure(figsize=(15,5))\n",
    "i=1\n",
    "for col in data_c.columns:\n",
    "    f.add_subplot(1,3,i)\n",
    "    sns.boxplot(x='Type',y=col,data=data,hue='Type')\n",
    "    i+=1\n",
    "\n",
    "plt.show()"
   ]
  },
  {
   "cell_type": "markdown",
   "metadata": {},
   "source": [
    "<br><br>\n",
    "Using boxplot, we see that *Variants\" has more higher range values. "
   ]
  },
  {
   "cell_type": "code",
   "execution_count": 76,
   "metadata": {},
   "outputs": [
    {
     "data": {
      "text/html": [
       "<div>\n",
       "<style scoped>\n",
       "    .dataframe tbody tr th:only-of-type {\n",
       "        vertical-align: middle;\n",
       "    }\n",
       "\n",
       "    .dataframe tbody tr th {\n",
       "        vertical-align: top;\n",
       "    }\n",
       "\n",
       "    .dataframe thead th {\n",
       "        text-align: right;\n",
       "    }\n",
       "</style>\n",
       "<table border=\"1\" class=\"dataframe\">\n",
       "  <thead>\n",
       "    <tr style=\"text-align: right;\">\n",
       "      <th></th>\n",
       "      <th>Enrollments</th>\n",
       "      <th>Payments</th>\n",
       "    </tr>\n",
       "    <tr>\n",
       "      <th>Type</th>\n",
       "      <th></th>\n",
       "      <th></th>\n",
       "    </tr>\n",
       "  </thead>\n",
       "  <tbody>\n",
       "    <tr>\n",
       "      <th>control</th>\n",
       "      <td>3785.0</td>\n",
       "      <td>2033.0</td>\n",
       "    </tr>\n",
       "    <tr>\n",
       "      <th>variants</th>\n",
       "      <td>3423.0</td>\n",
       "      <td>1945.0</td>\n",
       "    </tr>\n",
       "  </tbody>\n",
       "</table>\n",
       "</div>"
      ],
      "text/plain": [
       "          Enrollments  Payments\n",
       "Type                           \n",
       "control        3785.0    2033.0\n",
       "variants       3423.0    1945.0"
      ]
     },
     "execution_count": 76,
     "metadata": {},
     "output_type": "execute_result"
    }
   ],
   "source": [
    "data_g=data.groupby('Type').sum()\n",
    "data_g"
   ]
  },
  {
   "cell_type": "code",
   "execution_count": 77,
   "metadata": {},
   "outputs": [
    {
     "data": {
      "image/png": "[encoded data removed]",
      "text/plain": [
       "<Figure size 720x360 with 2 Axes>"
      ]
     },
     "metadata": {},
     "output_type": "display_data"
    }
   ],
   "source": [
    "\n",
    "f=plt.figure(figsize=(10,5))\n",
    "for i,col in enumerate(data_g.columns) :   \n",
    "    # Pie chart\n",
    "    # only \"explode\" the 2nd slice (i.e. 'variants')\n",
    "    explode = (0, 0.1)  \n",
    "    f.add_subplot(1,2,i+1)\n",
    "    plt.pie(data_g[col], explode=explode, labels=data_g.index, autopct='%.2f%%',\n",
    "            shadow=True, startangle=90)\n",
    "    # Equal aspect ratio ensures that pie is drawn as a circle\n",
    "    plt.axis('equal')  \n",
    "    plt.tight_layout()\n",
    "    plt.title(col)\n",
    "plt.show()"
   ]
  },
  {
   "cell_type": "code",
   "execution_count": 134,
   "metadata": {},
   "outputs": [
    {
     "name": "stdout",
     "output_type": "stream",
     "text": [
      "Average of ratio Payments/Enrollments Control 0.5397972694238636\n",
      "\n",
      "Average of ratio Payments/Enrollments Variants 0.5731397768902483\n"
     ]
    }
   ],
   "source": [
    "data_c['Ratio']=(data_c['Payments']/data_c['Enrollments'])\n",
    "data_v['Ratio']=(data_v['Payments']/data_v['Enrollments'])\n",
    "print('Average of ratio Payments/Enrollments Control',data_c['Ratio'].mean())\n",
    "print('\\nAverage of ratio Payments/Enrollments Variants',data_v['Ratio'].mean())"
   ]
  },
  {
   "cell_type": "markdown",
   "metadata": {},
   "source": [
    "<br><br>\n",
    "Lastly, we see that *Control* has more Enrollments and more Payments rather than *Variants*. We can conclude from here, that visualy, *Control* has more advantage rather than *Variants*. Before we jump down to statistic method, we see that in ratio, *Variants* has higher ratio rather than *Control*, means that 57% of user who enroll in *Variant* is continue to comitted to course while 54% of *Control* commited.<br>\n",
    "<br>\n",
    "We seek to further analyze it by using statistic test. By QQPLOT below (and distplot above) we see that our data is not normal, so we use **Parametric Test** that is *Man-Whitney Test* which is basicaly t-test in non-parametric way. "
   ]
  },
  {
   "cell_type": "code",
   "execution_count": 137,
   "metadata": {},
   "outputs": [
    {
     "data": {
      "image/png": "[encoded data removed]",
      "text/plain": [
       "<Figure size 432x288 with 1 Axes>"
      ]
     },
     "metadata": {
      "needs_background": "light"
     },
     "output_type": "display_data"
    },
    {
     "data": {
      "image/png": "[encoded data removed]",
      "text/plain": [
       "<Figure size 432x288 with 1 Axes>"
      ]
     },
     "metadata": {
      "needs_background": "light"
     },
     "output_type": "display_data"
    },
    {
     "data": {
      "image/png": "[encoded data removed]",
      "text/plain": [
       "<Figure size 432x288 with 1 Axes>"
      ]
     },
     "metadata": {
      "needs_background": "light"
     },
     "output_type": "display_data"
    }
   ],
   "source": [
    "for i,col in enumerate(data_c.columns):\n",
    "    qqplot(data_c[col],fit=True,line='45')\n",
    "plt.show()"
   ]
  },
  {
   "cell_type": "markdown",
   "metadata": {},
   "source": [
    "<br><br>\n",
    "**Man Whitney Test**, in general (quoted from wikipedia) *the Mann–Whitney U test (also called the Mann–Whitney–Wilcoxon (MWW), Wilcoxon rank-sum test, or Wilcoxon–Mann–Whitney test) is a nonparametric test of the null hypothesis that it is equally likely that a randomly selected value from one sample will be less than or greater than a randomly selected value from a second sample*.<br><br>\n",
    "\n",
    "This test can be used to investigate whether two independent samples were selected from populations having the same distribution. A similar nonparametric test used on dependent samples is the Wilcoxon signed-rank test. <br><br>\n",
    "\n",
    "A very general formulation is to assume that:<br>\n",
    "\n",
    "- All the observations from both groups are independent of each other,\n",
    "- The responses are ordinal (i.e., one can at least say, of any two observations, which is the greater),\n",
    "- Under the null hypothesis H0, the distributions of both populations are equal.[3]\n",
    "- The alternative hypothesis H1 is that the distributions are not equal.\n",
    "\n",
    "<br><br>\n",
    "Using this test, we want to know if **Control** and **Variants** has the same distribution on each columns (*Enrollments, Payments*, and *Ratio*). If null hipotesis is rejected, then we can say that **Control** and **Variants** has different distribution, which means there are significance difference between them. If null hipotesis is accepted, then we can say that **Control** and **Variants** has same distribution or in other words, there are no significance difference between them."
   ]
  },
  {
   "cell_type": "code",
   "execution_count": 138,
   "metadata": {},
   "outputs": [
    {
     "name": "stdout",
     "output_type": "stream",
     "text": [
      "Enrollments\n",
      "Columns Enrollments has t-statistics 353.0 with p-value 0.026560008080183526\n",
      "Reject H0 : There is no enough evidence to say that the distribution of both data similar\n",
      "\n",
      "Payments\n",
      "Columns Payments has t-statistics 284.5 with p-value 0.33410333815766224\n",
      "Accept H0 : There is evidence that the distribution of both data similar\n",
      "\n",
      "Ratio\n",
      "Columns Ratio has t-statistics 209.0 with p-value 0.890702762168325\n",
      "Accept H0 : There is evidence that the distribution of both data similar\n",
      "\n"
     ]
    }
   ],
   "source": [
    "\n",
    "col=data_c.columns\n",
    "for i in col:\n",
    "    print(i)\n",
    "    stat2, p2 = stats.mannwhitneyu(data_c[i], data_v[i],alternative='greater')\n",
    "    stat3, p3 = stats.ttest_ind(data_c[i], data_v[i],equal_var=False)\n",
    "    print('Columns {} has t-statistics {} with p-value {}'.format(i,stat2,p2))\n",
    "    if p2<0.05:\n",
    "        print('Reject H0 : There is no enough evidence to say that the distribution of both data similar\\n')\n",
    "    else:\n",
    "        print('Accept H0 : There is evidence that the distribution of both data similar\\n')"
   ]
  },
  {
   "cell_type": "markdown",
   "metadata": {},
   "source": [
    "# Conclusion :"
   ]
  },
  {
   "cell_type": "markdown",
   "metadata": {},
   "source": [
    "<br><br>\n",
    "From here, we get that for Enrollments, statisticaly, *Control* and *Variants* is difference, and from EDA above we see that Enrollments in *Control* is higher. It's make sense as because it's free, people want to try the course anyway. But, in *Variants*, people is given questions and statement that make them wonder if they could *commit* at all, and therefore some people do not click the free trial. <br>\n",
    "\n",
    "On the other hand, in Payments, in EDA the different between *COntrol* and *Variants* is not significance much. Even if in ratio, *Variant* has more percentage, statisticaly, difference of people who pay (or commited after 14 days) in both *Control* and *Variants* do not significanly difference. \n",
    "<br>\n",
    "<br>\n",
    "Here, we can **conclude** that giving variants define in above, do not increasing Payments of people. It does however, decrease the amount of people who want to do the free trial. We recommend to not use the *Variants* design but use the original *Control* instead. \n"
   ]
  }
 ],
 "metadata": {
  "kernelspec": {
   "display_name": "Python 3",
   "language": "python",
   "name": "python3"
  },
  "language_info": {
   "codemirror_mode": {
    "name": "ipython",
    "version": 3
   },
   "file_extension": ".py",
   "mimetype": "text/x-python",
   "name": "python",
   "nbconvert_exporter": "python",
   "pygments_lexer": "ipython3",
   "version": "3.7.3"
  }
 },
 "nbformat": 4,
 "nbformat_minor": 2
}
