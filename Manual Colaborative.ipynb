{
 "cells": [
  {
   "cell_type": "markdown",
   "metadata": {},
   "source": [
    "# Collaborative-Filtering"
   ]
  },
  {
   "cell_type": "markdown",
   "metadata": {},
   "source": [
    "### CREATED BY : **ANDREAS MULYARHARDJA**\n",
    "<br><br>\n",
    "In this section, we use Collaborative-Filteringg to recomend movies to users in our data. There are 2 approach used here, by using manual (pearson correlation) and by using <i>surprise</i> modules in Python <i>K-Nearest Neighbour with Means</i>. We use <i><b>RatingUser.csv</b></i> for our data. We try to give recomendation movies to user <b>Mulya</b> using this method.<br><br>"
   ]
  },
  {
   "cell_type": "markdown",
   "metadata": {},
   "source": [
    "## Import Modules\n",
    "<br>"
   ]
  },
  {
   "cell_type": "code",
   "execution_count": 77,
   "metadata": {},
   "outputs": [],
   "source": [
    "import pandas as pd\n",
    "import numpy as np\n",
    "\n",
    "# For manual Colaborative Filtering\n",
    "from math import sqrt\n",
    "from scipy import spatial\n",
    "\n",
    "# For Colaborative Filtering using Modules\n",
    "\n",
    "from surprise import Dataset\n",
    "from surprise import Reader\n",
    "\n",
    "from surprise import KNNWithMeans"
   ]
  },
  {
   "cell_type": "markdown",
   "metadata": {},
   "source": [
    "## Data Preprocessing"
   ]
  },
  {
   "cell_type": "markdown",
   "metadata": {},
   "source": [
    "<br><br><br>\n",
    "First we read data and preprocess it. For this <i><b>repositories</b></i> we do not deep down to EDA as building recomendation algorithm is our main focus here."
   ]
  },
  {
   "cell_type": "code",
   "execution_count": 97,
   "metadata": {
    "scrolled": true
   },
   "outputs": [
    {
     "data": {
      "text/html": [
       "<div>\n",
       "<style scoped>\n",
       "    .dataframe tbody tr th:only-of-type {\n",
       "        vertical-align: middle;\n",
       "    }\n",
       "\n",
       "    .dataframe tbody tr th {\n",
       "        vertical-align: top;\n",
       "    }\n",
       "\n",
       "    .dataframe thead th {\n",
       "        text-align: right;\n",
       "    }\n",
       "</style>\n",
       "<table border=\"1\" class=\"dataframe\">\n",
       "  <thead>\n",
       "    <tr style=\"text-align: right;\">\n",
       "      <th></th>\n",
       "      <th>Wall-e</th>\n",
       "      <th>The Terminator</th>\n",
       "      <th>The Wizard of Oz</th>\n",
       "      <th>Jaws</th>\n",
       "      <th>Gladiator</th>\n",
       "      <th>The Avengers</th>\n",
       "      <th>Zootopia</th>\n",
       "      <th>Aladdin</th>\n",
       "      <th>Spider-Man: Homecoming</th>\n",
       "      <th>Guardians of the Galaxy Vol. 2</th>\n",
       "    </tr>\n",
       "  </thead>\n",
       "  <tbody>\n",
       "    <tr>\n",
       "      <th>Hania</th>\n",
       "      <td>3.0</td>\n",
       "      <td>5.0</td>\n",
       "      <td>4.0</td>\n",
       "      <td>4.0</td>\n",
       "      <td>4.0</td>\n",
       "      <td>-1.0</td>\n",
       "      <td>-1.0</td>\n",
       "      <td>-1.0</td>\n",
       "      <td>-1.0</td>\n",
       "      <td>-1.0</td>\n",
       "    </tr>\n",
       "    <tr>\n",
       "      <th>Topik Zulkarnain</th>\n",
       "      <td>-1.0</td>\n",
       "      <td>-1.0</td>\n",
       "      <td>-1.0</td>\n",
       "      <td>-1.0</td>\n",
       "      <td>-1.0</td>\n",
       "      <td>5.0</td>\n",
       "      <td>5.0</td>\n",
       "      <td>-1.0</td>\n",
       "      <td>4.0</td>\n",
       "      <td>2.0</td>\n",
       "    </tr>\n",
       "    <tr>\n",
       "      <th>AhokTemanFirli</th>\n",
       "      <td>-1.0</td>\n",
       "      <td>-1.0</td>\n",
       "      <td>-1.0</td>\n",
       "      <td>-1.0</td>\n",
       "      <td>-1.0</td>\n",
       "      <td>3.0</td>\n",
       "      <td>-1.0</td>\n",
       "      <td>-1.0</td>\n",
       "      <td>-1.0</td>\n",
       "      <td>4.0</td>\n",
       "    </tr>\n",
       "    <tr>\n",
       "      <th>franadek</th>\n",
       "      <td>4.0</td>\n",
       "      <td>4.0</td>\n",
       "      <td>4.0</td>\n",
       "      <td>5.0</td>\n",
       "      <td>3.0</td>\n",
       "      <td>5.0</td>\n",
       "      <td>4.0</td>\n",
       "      <td>5.0</td>\n",
       "      <td>4.0</td>\n",
       "      <td>4.0</td>\n",
       "    </tr>\n",
       "    <tr>\n",
       "      <th>OM INDRA</th>\n",
       "      <td>3.0</td>\n",
       "      <td>-1.0</td>\n",
       "      <td>2.0</td>\n",
       "      <td>-1.0</td>\n",
       "      <td>5.0</td>\n",
       "      <td>5.0</td>\n",
       "      <td>-1.0</td>\n",
       "      <td>1.0</td>\n",
       "      <td>5.0</td>\n",
       "      <td>5.0</td>\n",
       "    </tr>\n",
       "  </tbody>\n",
       "</table>\n",
       "</div>"
      ],
      "text/plain": [
       "                  Wall-e  The Terminator  The Wizard of Oz  Jaws  Gladiator  \\\n",
       "Hania                3.0             5.0               4.0   4.0        4.0   \n",
       "Topik Zulkarnain    -1.0            -1.0              -1.0  -1.0       -1.0   \n",
       "AhokTemanFirli      -1.0            -1.0              -1.0  -1.0       -1.0   \n",
       "franadek             4.0             4.0               4.0   5.0        3.0   \n",
       "OM INDRA             3.0            -1.0               2.0  -1.0        5.0   \n",
       "\n",
       "                  The Avengers  Zootopia  Aladdin  Spider-Man: Homecoming  \\\n",
       "Hania                     -1.0      -1.0     -1.0                    -1.0   \n",
       "Topik Zulkarnain           5.0       5.0     -1.0                     4.0   \n",
       "AhokTemanFirli             3.0      -1.0     -1.0                    -1.0   \n",
       "franadek                   5.0       4.0      5.0                     4.0   \n",
       "OM INDRA                   5.0      -1.0      1.0                     5.0   \n",
       "\n",
       "                  Guardians of the Galaxy Vol. 2  \n",
       "Hania                                       -1.0  \n",
       "Topik Zulkarnain                             2.0  \n",
       "AhokTemanFirli                               4.0  \n",
       "franadek                                     4.0  \n",
       "OM INDRA                                     5.0  "
      ]
     },
     "execution_count": 97,
     "metadata": {},
     "output_type": "execute_result"
    }
   ],
   "source": [
    "dataset=pd.read_csv('RatingUser.csv',delimiter=\",\")\n",
    "df=dataset\n",
    "dataset=dataset.set_index('Nama Anda')\n",
    "del dataset.index.name\n",
    "dataset=dataset.fillna(-1) # will be discussed in the next markdown\n",
    "dataset.head()"
   ]
  },
  {
   "cell_type": "markdown",
   "metadata": {},
   "source": [
    "<br><br>\n",
    "For our manual collaborative to be run succesfully, we need to convert our dataset into dictionaries with Key is name of users, and Key values is dictionary of Movies and its ratings. We also have to remove movies that was not been watched by users. To make things easier, we change NaN values to -1."
   ]
  },
  {
   "cell_type": "code",
   "execution_count": 98,
   "metadata": {
    "scrolled": true
   },
   "outputs": [
    {
     "data": {
      "text/plain": [
       "{'Hania': {'Wall-e': 3.0,\n",
       "  'The Terminator': 5.0,\n",
       "  'The Wizard of Oz': 4.0,\n",
       "  'Jaws': 4.0,\n",
       "  'Gladiator': 4.0},\n",
       " 'Topik Zulkarnain': {'The Avengers': 5.0,\n",
       "  'Zootopia': 5.0,\n",
       "  'Spider-Man: Homecoming': 4.0,\n",
       "  'Guardians of the Galaxy Vol. 2': 2.0},\n",
       " 'AhokTemanFirli': {'The Avengers': 3.0,\n",
       "  'Guardians of the Galaxy Vol. 2': 4.0},\n",
       " 'franadek': {'Wall-e': 4.0,\n",
       "  'The Terminator': 4.0,\n",
       "  'The Wizard of Oz': 4.0,\n",
       "  'Jaws': 5.0,\n",
       "  'Gladiator': 3.0,\n",
       "  'The Avengers': 5.0,\n",
       "  'Zootopia': 4.0,\n",
       "  'Aladdin': 5.0,\n",
       "  'Spider-Man: Homecoming': 4.0,\n",
       "  'Guardians of the Galaxy Vol. 2': 4.0},\n",
       " 'OM INDRA': {'Wall-e': 3.0,\n",
       "  'The Wizard of Oz': 2.0,\n",
       "  'Gladiator': 5.0,\n",
       "  'The Avengers': 5.0,\n",
       "  'Aladdin': 1.0,\n",
       "  'Spider-Man: Homecoming': 5.0,\n",
       "  'Guardians of the Galaxy Vol. 2': 5.0},\n",
       " 'Mulya': {'The Avengers': 4.0,\n",
       "  'Zootopia': 2.0,\n",
       "  'Aladdin': 5.0,\n",
       "  'Spider-Man: Homecoming': 4.0,\n",
       "  'Guardians of the Galaxy Vol. 2': 3.0},\n",
       " 'Genjeh': {'Wall-e': 5.0,\n",
       "  'The Terminator': 4.0,\n",
       "  'The Wizard of Oz': 3.0,\n",
       "  'The Avengers': 5.0,\n",
       "  'Aladdin': 5.0,\n",
       "  'Spider-Man: Homecoming': 4.0,\n",
       "  'Guardians of the Galaxy Vol. 2': 4.0},\n",
       " 'faizah': {'Wall-e': 3.0,\n",
       "  'The Wizard of Oz': 5.0,\n",
       "  'Jaws': 5.0,\n",
       "  'Gladiator': 4.0,\n",
       "  'The Avengers': 5.0},\n",
       " 'Dpv': {'Wall-e': 5.0,\n",
       "  'The Terminator': 4.0,\n",
       "  'The Wizard of Oz': 4.0,\n",
       "  'The Avengers': 5.0,\n",
       "  'Spider-Man: Homecoming': 5.0,\n",
       "  'Guardians of the Galaxy Vol. 2': 5.0},\n",
       " 'Putrisqiana': {'Wall-e': 4.0,\n",
       "  'The Terminator': 3.0,\n",
       "  'The Wizard of Oz': 2.0,\n",
       "  'Jaws': 4.0,\n",
       "  'Gladiator': 3.0,\n",
       "  'The Avengers': 5.0,\n",
       "  'Spider-Man: Homecoming': 4.0,\n",
       "  'Guardians of the Galaxy Vol. 2': 3.0},\n",
       " 'Nonton_Saat_Diskon': {'Wall-e': 4.0,\n",
       "  'The Terminator': 3.0,\n",
       "  'The Wizard of Oz': 3.0,\n",
       "  'The Avengers': 5.0,\n",
       "  'Zootopia': 5.0,\n",
       "  'Aladdin': 5.0,\n",
       "  'Spider-Man: Homecoming': 4.0,\n",
       "  'Guardians of the Galaxy Vol. 2': 5.0},\n",
       " 'Romantika': {'Wall-e': 5.0, 'The Wizard of Oz': 5.0},\n",
       " 'ANI': {'Wall-e': 4.0,\n",
       "  'The Wizard of Oz': 4.0,\n",
       "  'Jaws': 5.0,\n",
       "  'Aladdin': 4.0,\n",
       "  'Spider-Man: Homecoming': 3.0,\n",
       "  'Guardians of the Galaxy Vol. 2': 4.0},\n",
       " 'Rima': {'Wall-e': 5.0,\n",
       "  'The Terminator': 5.0,\n",
       "  'The Wizard of Oz': 5.0,\n",
       "  'Jaws': 4.0,\n",
       "  'Gladiator': 3.0,\n",
       "  'The Avengers': 5.0,\n",
       "  'Zootopia': 4.0,\n",
       "  'Aladdin': 5.0,\n",
       "  'Spider-Man: Homecoming': 5.0,\n",
       "  'Guardians of the Galaxy Vol. 2': 5.0},\n",
       " 'bunga': {'The Terminator': 4.0,\n",
       "  'The Wizard of Oz': 4.0,\n",
       "  'The Avengers': 5.0,\n",
       "  'Zootopia': 5.0,\n",
       "  'Aladdin': 5.0,\n",
       "  'Spider-Man: Homecoming': 5.0,\n",
       "  'Guardians of the Galaxy Vol. 2': 5.0},\n",
       " 'Jawaharal': {'Wall-e': 2.0,\n",
       "  'The Terminator': 4.0,\n",
       "  'The Wizard of Oz': 3.0,\n",
       "  'Gladiator': 5.0,\n",
       "  'The Avengers': 5.0,\n",
       "  'Zootopia': 4.0,\n",
       "  'Aladdin': 5.0,\n",
       "  'Spider-Man: Homecoming': 5.0,\n",
       "  'Guardians of the Galaxy Vol. 2': 4.0},\n",
       " 'Febi ganteng gak ada obat': {'Wall-e': 4.0,\n",
       "  'The Terminator': 3.0,\n",
       "  'The Wizard of Oz': 4.0,\n",
       "  'The Avengers': 5.0,\n",
       "  'Aladdin': 5.0,\n",
       "  'Spider-Man: Homecoming': 5.0,\n",
       "  'Guardians of the Galaxy Vol. 2': 4.0},\n",
       " 'Star': {'Wall-e': 4.0,\n",
       "  'The Terminator': 4.0,\n",
       "  'The Avengers': 5.0,\n",
       "  'Zootopia': 5.0,\n",
       "  'Aladdin': 5.0,\n",
       "  'Guardians of the Galaxy Vol. 2': 5.0},\n",
       " 'Indra Junior': {'Wall-e': 4.0,\n",
       "  'Gladiator': 4.0,\n",
       "  'The Avengers': 5.0,\n",
       "  'Zootopia': 5.0,\n",
       "  'Aladdin': 5.0,\n",
       "  'Spider-Man: Homecoming': 5.0,\n",
       "  'Guardians of the Galaxy Vol. 2': 5.0},\n",
       " 'Indra 1991 SM': {'The Terminator': 5.0},\n",
       " 'Damar Teman Firli': {'Wall-e': 5.0,\n",
       "  'The Avengers': 5.0,\n",
       "  'Spider-Man: Homecoming': 5.0},\n",
       " 'jul': {'The Terminator': 3.0,\n",
       "  'Gladiator': 3.0,\n",
       "  'The Avengers': 3.0,\n",
       "  'Zootopia': 3.0,\n",
       "  'Aladdin': 3.0,\n",
       "  'Spider-Man: Homecoming': 3.0,\n",
       "  'Guardians of the Galaxy Vol. 2': 3.0},\n",
       " 'luck': {'Wall-e': 3.0,\n",
       "  'The Avengers': 4.0,\n",
       "  'Guardians of the Galaxy Vol. 2': 2.0},\n",
       " 'Maria O.': {'Zootopia': 5.0, 'Aladdin': 4.0}}"
      ]
     },
     "execution_count": 98,
     "metadata": {},
     "output_type": "execute_result"
    }
   ],
   "source": [
    "dataset = dataset.to_dict(orient='index')\n",
    "for name in dataset:\n",
    "    dicto={}\n",
    "    for movie in dataset[name]:\n",
    "        if dataset[name][movie]!=-1:\n",
    "            dicto[movie]=dataset[name][movie]\n",
    "    dataset[name]=dicto\n",
    "dataset\n",
    "        \n"
   ]
  },
  {
   "cell_type": "markdown",
   "metadata": {},
   "source": [
    "<br><br>\n",
    "Now our data is ready for Colaborative Filtering.<br><br><br>\n",
    "\n",
    "## Manual Colaborative Filtering using Pearson Correlation\n",
    "\n",
    "<br>\n",
    "Next, we defining function to calculate distance and simmilarity between users, and to do collaborative clustering. Here, we use <b>Pearson Correlation</b> for determining similarity between users that is :\n",
    "\n",
    "![asd](https://wikimedia.org/api/rest_v1/media/math/render/svg/869d208d19ba2481a306aa5b2829d6f147215f22)\n",
    "\n",
    "After we find which users is highly correlated to which, we can predict ratings of movies we have not watched from those similar users that already have watched. <br><br>"
   ]
  },
  {
   "cell_type": "code",
   "execution_count": 99,
   "metadata": {},
   "outputs": [],
   "source": [
    "#import code \n",
    "\n",
    "def person_correlation(person1, person2):\n",
    "\n",
    "   # To get both rated items\n",
    "    both_rated = {}\n",
    "    for item in dataset[person1]:\n",
    "        if item in dataset[person2]:\n",
    "            both_rated[item] = 1\n",
    "\n",
    "    number_of_ratings = len(both_rated)\n",
    "\n",
    "    # Checking for ratings in common\n",
    "    if number_of_ratings == 0:\n",
    "        return 0\n",
    "\n",
    "    # Add up all the preferences of each user\n",
    "    person1_preferences_sum = sum([dataset[person1][item] for item in both_rated])\n",
    "    person2_preferences_sum = sum([dataset[person2][item] for item in both_rated])\n",
    "\n",
    "    # Sum up the squares of preferences of each user\n",
    "    person1_square_preferences_sum = sum([pow(dataset[person1][item],2) for item in both_rated])\n",
    "    person2_square_preferences_sum = sum([pow(dataset[person2][item],2) for item in both_rated])\n",
    "\n",
    "    # Sum up the product value of both preferences for each item\n",
    "    product_sum_of_both_users = sum([dataset[person1][item] * dataset[person2][item] for item in both_rated])\n",
    "\n",
    "    # Calculate the pearson score\n",
    "    numerator_value = product_sum_of_both_users - (person1_preferences_sum*person2_preferences_sum/number_of_ratings)\n",
    "    denominator_value = sqrt((person1_square_preferences_sum - pow(person1_preferences_sum,2)/number_of_ratings) * (person2_square_preferences_sum -pow(person2_preferences_sum,2)/number_of_ratings))\n",
    "\n",
    "    if denominator_value == 0:\n",
    "        return 0\n",
    "    else:\n",
    "        r = numerator_value / denominator_value\n",
    "        return r\n",
    "\n",
    "def most_similar_users(person, number_of_users):\n",
    "\n",
    "    # returns the number_of_users (similar persons) for a given specific person\n",
    "    scores = [(person_correlation(person, other_person), other_person) for other_person in dataset if other_person != person]\n",
    "\n",
    "    # Sort the similar persons so the highest scores person will appear at the first\n",
    "    scores.sort()\n",
    "    scores.reverse()\n",
    "    return scores[0:number_of_users]\n",
    "        \n",
    "def user_recommendations(person):\n",
    "\n",
    "    # Gets recommendations for a person by using a weighted average of every other user's rankings\n",
    "    totals = {}\n",
    "    simSums = {}\n",
    "    rankings_list =[]\n",
    "    for other in dataset:\n",
    "        # don't compare me to myself\n",
    "        if other == person:\n",
    "            continue\n",
    "        sim = person_correlation(person,other)\n",
    "        #print \">>>>>>>\",sim\n",
    "\n",
    "        # ignore scores of zero or lower\n",
    "        if sim <=0: \n",
    "            continue\n",
    "        for item in dataset[other]:\n",
    "\n",
    "            # only score movies i haven't seen yet\n",
    "            if item not in dataset[person] or dataset[person][item] == 0:\n",
    "\n",
    "                # Similrity * score\n",
    "                totals.setdefault(item,0)\n",
    "                totals[item] += dataset[other][item]* sim\n",
    "                # sum of similarities\n",
    "                simSums.setdefault(item,0)\n",
    "                simSums[item]+= sim\n",
    "\n",
    "        # Create the normalized list\n",
    "\n",
    "    rankings = [(total/simSums[item],item) for item,total in totals.items()]\n",
    "    rankings.sort()\n",
    "    rankings.reverse()\n",
    "    # returns the recommended items\n",
    "    recommendataions_list = [recommend_item for score,recommend_item in rankings]\n",
    "    return recommendataions_list,rankings\n",
    "        \n",
    "\n"
   ]
  },
  {
   "cell_type": "markdown",
   "metadata": {},
   "source": [
    "<br><br>\n",
    "Now we call user_recomendation function and tried to give movie recomendation to user <b>Mulya</b>.  "
   ]
  },
  {
   "cell_type": "code",
   "execution_count": 124,
   "metadata": {},
   "outputs": [
    {
     "name": "stdout",
     "output_type": "stream",
     "text": [
      "\n",
      "Recomendation movie and its predicted ratings for user Mulya is \n",
      " [(4.3039040240550515, 'Jaws'), (3.811939905577606, 'The Terminator'), (3.780128839373005, 'Wall-e'), (3.541676960203368, 'Gladiator'), (3.4690682979474237, 'The Wizard of Oz')]\n"
     ]
    }
   ],
   "source": [
    "name='Mulya'\n",
    "title,rating=user_recommendations(name)\n",
    "print('\\nRecomendation movie and its predicted ratings for user {} is \\n {}'.format(name,str(rating)))"
   ]
  },
  {
   "cell_type": "markdown",
   "metadata": {},
   "source": [
    "<br><br>\n",
    "From here, we see that all the 5 films has predicted good ratings. If we take only those movies who has predicted ratings more than 3.5, we have Jaws, The Terminator, Wall-e, and Gladiator. <br><br><br>\n",
    "\n",
    "We now want to see the simmilarities within each user with <b>Mulya</b>. We see that 'luck' has Pearson Correlation 1.0, which is highly correlated. <br>"
   ]
  },
  {
   "cell_type": "code",
   "execution_count": 133,
   "metadata": {},
   "outputs": [
    {
     "data": {
      "text/plain": [
       "[(1.0, 'luck'),\n",
       " (0.8807048459279792, 'Jawaharal'),\n",
       " (0.8660254037844402, 'Putrisqiana'),\n",
       " (0.8164965809277261, 'Febi ganteng gak ada obat'),\n",
       " (0.7844645405527345, 'Rima'),\n",
       " (0.7205766921228899, 'franadek'),\n",
       " (0.7071067811865475, 'Genjeh'),\n",
       " (0, 'jul'),\n",
       " (0, 'faizah'),\n",
       " (0, 'bunga'),\n",
       " (0.0, 'Topik Zulkarnain'),\n",
       " (0, 'Star'),\n",
       " (0, 'Romantika'),\n",
       " (0, 'Indra Junior'),\n",
       " (0, 'Indra 1991 SM'),\n",
       " (0, 'Hania'),\n",
       " (0, 'Dpv'),\n",
       " (0, 'Damar Teman Firli'),\n",
       " (0.0, 'ANI'),\n",
       " (-0.1961161351381871, 'Nonton_Saat_Diskon'),\n",
       " (-0.8164965809277261, 'OM INDRA'),\n",
       " (-1.0, 'Maria O.'),\n",
       " (-1.0, 'AhokTemanFirli')]"
      ]
     },
     "execution_count": 133,
     "metadata": {},
     "output_type": "execute_result"
    }
   ],
   "source": [
    "most_similar_users('Mulya',24)"
   ]
  },
  {
   "cell_type": "markdown",
   "metadata": {},
   "source": [
    "<br><br>\n",
    "If we inspect 'top 2 similar users, we get :"
   ]
  },
  {
   "cell_type": "code",
   "execution_count": 126,
   "metadata": {},
   "outputs": [
    {
     "data": {
      "text/html": [
       "<div>\n",
       "<style scoped>\n",
       "    .dataframe tbody tr th:only-of-type {\n",
       "        vertical-align: middle;\n",
       "    }\n",
       "\n",
       "    .dataframe tbody tr th {\n",
       "        vertical-align: top;\n",
       "    }\n",
       "\n",
       "    .dataframe thead th {\n",
       "        text-align: right;\n",
       "    }\n",
       "</style>\n",
       "<table border=\"1\" class=\"dataframe\">\n",
       "  <thead>\n",
       "    <tr style=\"text-align: right;\">\n",
       "      <th></th>\n",
       "      <th>Nama Anda</th>\n",
       "      <th>The Avengers</th>\n",
       "      <th>Zootopia</th>\n",
       "      <th>Aladdin</th>\n",
       "      <th>Spider-Man: Homecoming</th>\n",
       "      <th>Guardians of the Galaxy Vol. 2</th>\n",
       "    </tr>\n",
       "  </thead>\n",
       "  <tbody>\n",
       "    <tr>\n",
       "      <th>5</th>\n",
       "      <td>Mulya</td>\n",
       "      <td>4.0</td>\n",
       "      <td>2.0</td>\n",
       "      <td>5.0</td>\n",
       "      <td>4.0</td>\n",
       "      <td>3.0</td>\n",
       "    </tr>\n",
       "  </tbody>\n",
       "</table>\n",
       "</div>"
      ],
      "text/plain": [
       "  Nama Anda  The Avengers  Zootopia  Aladdin  Spider-Man: Homecoming  \\\n",
       "5     Mulya           4.0       2.0      5.0                     4.0   \n",
       "\n",
       "   Guardians of the Galaxy Vol. 2  \n",
       "5                             3.0  "
      ]
     },
     "execution_count": 126,
     "metadata": {},
     "output_type": "execute_result"
    }
   ],
   "source": [
    "df[df['Nama Anda']=='Mulya'].dropna(axis=1) "
   ]
  },
  {
   "cell_type": "code",
   "execution_count": 132,
   "metadata": {},
   "outputs": [
    {
     "data": {
      "text/html": [
       "<div>\n",
       "<style scoped>\n",
       "    .dataframe tbody tr th:only-of-type {\n",
       "        vertical-align: middle;\n",
       "    }\n",
       "\n",
       "    .dataframe tbody tr th {\n",
       "        vertical-align: top;\n",
       "    }\n",
       "\n",
       "    .dataframe thead th {\n",
       "        text-align: right;\n",
       "    }\n",
       "</style>\n",
       "<table border=\"1\" class=\"dataframe\">\n",
       "  <thead>\n",
       "    <tr style=\"text-align: right;\">\n",
       "      <th></th>\n",
       "      <th>Nama Anda</th>\n",
       "      <th>Wall-e</th>\n",
       "      <th>The Avengers</th>\n",
       "      <th>Guardians of the Galaxy Vol. 2</th>\n",
       "    </tr>\n",
       "  </thead>\n",
       "  <tbody>\n",
       "    <tr>\n",
       "      <th>22</th>\n",
       "      <td>luck</td>\n",
       "      <td>3.0</td>\n",
       "      <td>4.0</td>\n",
       "      <td>2.0</td>\n",
       "    </tr>\n",
       "  </tbody>\n",
       "</table>\n",
       "</div>"
      ],
      "text/plain": [
       "   Nama Anda  Wall-e  The Avengers  Guardians of the Galaxy Vol. 2\n",
       "22      luck     3.0           4.0                             2.0"
      ]
     },
     "execution_count": 132,
     "metadata": {},
     "output_type": "execute_result"
    }
   ],
   "source": [
    "df[df['Nama Anda']=='luck'].dropna(axis=1) "
   ]
  },
  {
   "cell_type": "code",
   "execution_count": 131,
   "metadata": {},
   "outputs": [
    {
     "data": {
      "text/html": [
       "<div>\n",
       "<style scoped>\n",
       "    .dataframe tbody tr th:only-of-type {\n",
       "        vertical-align: middle;\n",
       "    }\n",
       "\n",
       "    .dataframe tbody tr th {\n",
       "        vertical-align: top;\n",
       "    }\n",
       "\n",
       "    .dataframe thead th {\n",
       "        text-align: right;\n",
       "    }\n",
       "</style>\n",
       "<table border=\"1\" class=\"dataframe\">\n",
       "  <thead>\n",
       "    <tr style=\"text-align: right;\">\n",
       "      <th></th>\n",
       "      <th>Nama Anda</th>\n",
       "      <th>Wall-e</th>\n",
       "      <th>The Terminator</th>\n",
       "      <th>The Wizard of Oz</th>\n",
       "      <th>Gladiator</th>\n",
       "      <th>The Avengers</th>\n",
       "      <th>Zootopia</th>\n",
       "      <th>Aladdin</th>\n",
       "      <th>Spider-Man: Homecoming</th>\n",
       "      <th>Guardians of the Galaxy Vol. 2</th>\n",
       "    </tr>\n",
       "  </thead>\n",
       "  <tbody>\n",
       "    <tr>\n",
       "      <th>15</th>\n",
       "      <td>Jawaharal</td>\n",
       "      <td>2.0</td>\n",
       "      <td>4.0</td>\n",
       "      <td>3.0</td>\n",
       "      <td>5.0</td>\n",
       "      <td>5.0</td>\n",
       "      <td>4.0</td>\n",
       "      <td>5.0</td>\n",
       "      <td>5.0</td>\n",
       "      <td>4.0</td>\n",
       "    </tr>\n",
       "  </tbody>\n",
       "</table>\n",
       "</div>"
      ],
      "text/plain": [
       "    Nama Anda  Wall-e  The Terminator  The Wizard of Oz  Gladiator  \\\n",
       "15  Jawaharal     2.0             4.0               3.0        5.0   \n",
       "\n",
       "    The Avengers  Zootopia  Aladdin  Spider-Man: Homecoming  \\\n",
       "15           5.0       4.0      5.0                     5.0   \n",
       "\n",
       "    Guardians of the Galaxy Vol. 2  \n",
       "15                             4.0  "
      ]
     },
     "execution_count": 131,
     "metadata": {},
     "output_type": "execute_result"
    }
   ],
   "source": [
    "df[df['Nama Anda']=='Jawaharal'].dropna(axis=1) "
   ]
  },
  {
   "cell_type": "markdown",
   "metadata": {},
   "source": [
    "<br><br>\n",
    "Because Pearson correlation is measuring how much the users is correlated <b><i>LINEARLY</i></b>, using pearson user : luck and user : Mulya is measured to be on the same ' line '. Colaborative Filtering is calculated predicted ratings base on similar user which translates to '<i>Has the same taste</i>' to already watched movies. Other than pearson, we can also use Cosine to calculate similarity. <br><br><br><br><br>"
   ]
  },
  {
   "cell_type": "markdown",
   "metadata": {},
   "source": [
    "## Using KNNWithMeans Modules surprise"
   ]
  },
  {
   "cell_type": "markdown",
   "metadata": {},
   "source": [
    "<br><br>\n",
    "Now, we use Python modules to do colaborative clustering. Compared to above, we use Pearson and Cosine with KNNBasic that is basicaly Colaborative Filtering used above. In Surprise, we can use alot of method like KNNWithMeans, NormalPredictor, and etc. Compared to pearson, Cosine calculated its similarities by :\n",
    "\n",
    "![](https://miro.medium.com/max/306/1*gjQMBuTqNENrj4Md_Y8Rzg.png)\n",
    "\n",
    "<br>\n",
    "We can intepret Cosine as the angle between vectors. So if 2 users, e.g. a,b have close angle, its cosine will equal to 1 (because its angle is 0 and cos(0)=1). We compared each method below"
   ]
  },
  {
   "cell_type": "markdown",
   "metadata": {},
   "source": [
    "### Preprocessing\n",
    "<br><br>\n",
    "Same as above section, we preprocess our data which required to be ' stacked '. By default, NaN values will be dropped so we do not need to fill NaN values"
   ]
  },
  {
   "cell_type": "code",
   "execution_count": 197,
   "metadata": {},
   "outputs": [
    {
     "data": {
      "text/html": [
       "<div>\n",
       "<style scoped>\n",
       "    .dataframe tbody tr th:only-of-type {\n",
       "        vertical-align: middle;\n",
       "    }\n",
       "\n",
       "    .dataframe tbody tr th {\n",
       "        vertical-align: top;\n",
       "    }\n",
       "\n",
       "    .dataframe thead th {\n",
       "        text-align: right;\n",
       "    }\n",
       "</style>\n",
       "<table border=\"1\" class=\"dataframe\">\n",
       "  <thead>\n",
       "    <tr style=\"text-align: right;\">\n",
       "      <th></th>\n",
       "      <th>Nama Anda</th>\n",
       "      <th>Movie</th>\n",
       "      <th>Rating</th>\n",
       "    </tr>\n",
       "  </thead>\n",
       "  <tbody>\n",
       "    <tr>\n",
       "      <th>28</th>\n",
       "      <td>Mulya</td>\n",
       "      <td>The Avengers</td>\n",
       "      <td>4.0</td>\n",
       "    </tr>\n",
       "    <tr>\n",
       "      <th>29</th>\n",
       "      <td>Mulya</td>\n",
       "      <td>Zootopia</td>\n",
       "      <td>2.0</td>\n",
       "    </tr>\n",
       "    <tr>\n",
       "      <th>30</th>\n",
       "      <td>Mulya</td>\n",
       "      <td>Aladdin</td>\n",
       "      <td>5.0</td>\n",
       "    </tr>\n",
       "    <tr>\n",
       "      <th>31</th>\n",
       "      <td>Mulya</td>\n",
       "      <td>Spider-Man: Homecoming</td>\n",
       "      <td>4.0</td>\n",
       "    </tr>\n",
       "    <tr>\n",
       "      <th>32</th>\n",
       "      <td>Mulya</td>\n",
       "      <td>Guardians of the Galaxy Vol. 2</td>\n",
       "      <td>3.0</td>\n",
       "    </tr>\n",
       "  </tbody>\n",
       "</table>\n",
       "</div>"
      ],
      "text/plain": [
       "   Nama Anda                           Movie  Rating\n",
       "28     Mulya                    The Avengers     4.0\n",
       "29     Mulya                        Zootopia     2.0\n",
       "30     Mulya                         Aladdin     5.0\n",
       "31     Mulya          Spider-Man: Homecoming     4.0\n",
       "32     Mulya  Guardians of the Galaxy Vol. 2     3.0"
      ]
     },
     "execution_count": 197,
     "metadata": {},
     "output_type": "execute_result"
    }
   ],
   "source": [
    "data=pd.read_csv('RatingUser.csv',delimiter=',')\n",
    "df = (data.set_index(['Nama Anda']).stack().reset_index(name='a'))\n",
    "df.columns=['Nama Anda','Movie','Rating']\n",
    "df[df['Nama Anda']=='Mulya']"
   ]
  },
  {
   "cell_type": "markdown",
   "metadata": {},
   "source": [
    "<br><br> And That's it! now we deep dive into Colaborative-Filtering.\n",
    "\n",
    "### Colaborative FIltering"
   ]
  },
  {
   "cell_type": "code",
   "execution_count": 199,
   "metadata": {},
   "outputs": [],
   "source": [
    "reader = Reader(rating_scale=(1, 5))\n",
    "\n",
    "# Loads Pandas dataframe\n",
    "data = Dataset.load_from_df(df, reader)"
   ]
  },
  {
   "cell_type": "code",
   "execution_count": 200,
   "metadata": {},
   "outputs": [
    {
     "name": "stdout",
     "output_type": "stream",
     "text": [
      "Computing the pearson similarity matrix...\n",
      "Done computing similarity matrix.\n",
      "Computing the cosine similarity matrix...\n",
      "Done computing similarity matrix.\n"
     ]
    },
    {
     "data": {
      "text/plain": [
       "<surprise.prediction_algorithms.knns.KNNBasic at 0x1d17419dd68>"
      ]
     },
     "execution_count": 200,
     "metadata": {},
     "output_type": "execute_result"
    }
   ],
   "source": [
    "from surprise import KNNWithMeans\n",
    "from surprise import KNNBasic\n",
    "# To use item-based cosine similarity\n",
    "sim_options1 = {\n",
    "    \"name\": \"pearson\",\n",
    "    \"user_based\": True,  # Compute  similarities between items\n",
    "}\n",
    "sim_options2 = {\n",
    "    \"name\": \"cosine\",\n",
    "    \"user_based\": True,  # Compute  similarities between items\n",
    "}\n",
    "algo = KNNBasic(sim_options=sim_options1)\n",
    "algo2 = KNNBasic(sim_options=sim_options2)\n",
    "trainingSet = data.build_full_trainset()\n",
    "algo.fit(trainingSet)\n",
    "algo2.fit(trainingSet)\n"
   ]
  },
  {
   "cell_type": "code",
   "execution_count": 201,
   "metadata": {},
   "outputs": [
    {
     "name": "stdout",
     "output_type": "stream",
     "text": [
      "[(4.3039040240550515, 'Jaws'), (3.811939905577606, 'The Terminator'), (3.780128839373005, 'Wall-e'), (3.541676960203368, 'Gladiator'), (3.4690682979474237, 'The Wizard of Oz')]\n"
     ]
    },
    {
     "data": {
      "text/html": [
       "<div>\n",
       "<style scoped>\n",
       "    .dataframe tbody tr th:only-of-type {\n",
       "        vertical-align: middle;\n",
       "    }\n",
       "\n",
       "    .dataframe tbody tr th {\n",
       "        vertical-align: top;\n",
       "    }\n",
       "\n",
       "    .dataframe thead th {\n",
       "        text-align: right;\n",
       "    }\n",
       "</style>\n",
       "<table border=\"1\" class=\"dataframe\">\n",
       "  <thead>\n",
       "    <tr style=\"text-align: right;\">\n",
       "      <th></th>\n",
       "      <th>Movie</th>\n",
       "      <th>User</th>\n",
       "      <th>Predicted Rating</th>\n",
       "    </tr>\n",
       "  </thead>\n",
       "  <tbody>\n",
       "    <tr>\n",
       "      <th>3</th>\n",
       "      <td>Jaws</td>\n",
       "      <td>Mulya</td>\n",
       "      <td>4.303904</td>\n",
       "    </tr>\n",
       "    <tr>\n",
       "      <th>1</th>\n",
       "      <td>The Terminator</td>\n",
       "      <td>Mulya</td>\n",
       "      <td>3.811940</td>\n",
       "    </tr>\n",
       "    <tr>\n",
       "      <th>0</th>\n",
       "      <td>Wall-e</td>\n",
       "      <td>Mulya</td>\n",
       "      <td>3.780129</td>\n",
       "    </tr>\n",
       "    <tr>\n",
       "      <th>4</th>\n",
       "      <td>Gladiator</td>\n",
       "      <td>Mulya</td>\n",
       "      <td>3.541677</td>\n",
       "    </tr>\n",
       "    <tr>\n",
       "      <th>2</th>\n",
       "      <td>The Wizard of Oz</td>\n",
       "      <td>Mulya</td>\n",
       "      <td>3.469068</td>\n",
       "    </tr>\n",
       "  </tbody>\n",
       "</table>\n",
       "</div>"
      ],
      "text/plain": [
       "              Movie   User  Predicted Rating\n",
       "3              Jaws  Mulya          4.303904\n",
       "1    The Terminator  Mulya          3.811940\n",
       "0            Wall-e  Mulya          3.780129\n",
       "4         Gladiator  Mulya          3.541677\n",
       "2  The Wizard of Oz  Mulya          3.469068"
      ]
     },
     "execution_count": 201,
     "metadata": {},
     "output_type": "execute_result"
    }
   ],
   "source": [
    "Name='Mulya'\n",
    "\n",
    "Movie=df['Movie'].unique()\n",
    "rec=[]\n",
    "for i in Movie:\n",
    "    movie_watched = np.array(df[df['Nama Anda']==Name]['Movie'])\n",
    "    if i not in movie_watched:\n",
    "        prediction = algo.predict(Name, i)\n",
    "        rec.append([i,Name,float(prediction.est)])\n",
    "rec=pd.DataFrame(rec)\n",
    "rec.columns=['Movie','User','Predicted Rating']\n",
    "\n",
    "print(rating) # Using Manual\n",
    "rec.sort_values('Predicted Rating',ascending=False) # Using KNNBasic\n"
   ]
  },
  {
   "cell_type": "markdown",
   "metadata": {},
   "source": [
    "<br><br>\n",
    "We see that using KNNBasic, we get same result as using manual method above. Now using cosine to calculate simmilar result, we get :"
   ]
  },
  {
   "cell_type": "code",
   "execution_count": 203,
   "metadata": {},
   "outputs": [
    {
     "data": {
      "text/html": [
       "<div>\n",
       "<style scoped>\n",
       "    .dataframe tbody tr th:only-of-type {\n",
       "        vertical-align: middle;\n",
       "    }\n",
       "\n",
       "    .dataframe tbody tr th {\n",
       "        vertical-align: top;\n",
       "    }\n",
       "\n",
       "    .dataframe thead th {\n",
       "        text-align: right;\n",
       "    }\n",
       "</style>\n",
       "<table border=\"1\" class=\"dataframe\">\n",
       "  <thead>\n",
       "    <tr style=\"text-align: right;\">\n",
       "      <th></th>\n",
       "      <th>Movie</th>\n",
       "      <th>User</th>\n",
       "      <th>Predicted Rating</th>\n",
       "    </tr>\n",
       "  </thead>\n",
       "  <tbody>\n",
       "    <tr>\n",
       "      <th>3</th>\n",
       "      <td>Jaws</td>\n",
       "      <td>Mulya</td>\n",
       "      <td>4.599518</td>\n",
       "    </tr>\n",
       "    <tr>\n",
       "      <th>0</th>\n",
       "      <td>Wall-e</td>\n",
       "      <td>Mulya</td>\n",
       "      <td>3.942756</td>\n",
       "    </tr>\n",
       "    <tr>\n",
       "      <th>4</th>\n",
       "      <td>Gladiator</td>\n",
       "      <td>Mulya</td>\n",
       "      <td>3.729781</td>\n",
       "    </tr>\n",
       "    <tr>\n",
       "      <th>1</th>\n",
       "      <td>The Terminator</td>\n",
       "      <td>Mulya</td>\n",
       "      <td>3.727418</td>\n",
       "    </tr>\n",
       "    <tr>\n",
       "      <th>2</th>\n",
       "      <td>The Wizard of Oz</td>\n",
       "      <td>Mulya</td>\n",
       "      <td>3.601987</td>\n",
       "    </tr>\n",
       "  </tbody>\n",
       "</table>\n",
       "</div>"
      ],
      "text/plain": [
       "              Movie   User  Predicted Rating\n",
       "3              Jaws  Mulya          4.599518\n",
       "0            Wall-e  Mulya          3.942756\n",
       "4         Gladiator  Mulya          3.729781\n",
       "1    The Terminator  Mulya          3.727418\n",
       "2  The Wizard of Oz  Mulya          3.601987"
      ]
     },
     "execution_count": 203,
     "metadata": {},
     "output_type": "execute_result"
    }
   ],
   "source": [
    "Name='Mulya'\n",
    "\n",
    "Movie=df['Movie'].unique()\n",
    "rec=[]\n",
    "for i in Movie:\n",
    "    movie_watched = np.array(df[df['Nama Anda']==Name]['Movie'])\n",
    "    if i not in movie_watched:\n",
    "        prediction = algo2.predict(Name, i)\n",
    "        rec.append([i,Name,float(prediction.est)])\n",
    "rec=pd.DataFrame(rec)\n",
    "rec.columns=['Movie','User','Predicted Rating']\n",
    "rec.sort_values('Predicted Rating',ascending=False)\n",
    "\n",
    "\n"
   ]
  },
  {
   "cell_type": "markdown",
   "metadata": {},
   "source": [
    "<br><br>\n",
    "These are different prediction compared to above. This is because similarities matrix using pearson and cosine is completely difference."
   ]
  },
  {
   "cell_type": "code",
   "execution_count": 207,
   "metadata": {},
   "outputs": [
    {
     "name": "stdout",
     "output_type": "stream",
     "text": [
      "Computing the pearson similarity matrix...\n",
      "Done computing similarity matrix.\n",
      "Computing the cosine similarity matrix...\n",
      "Done computing similarity matrix.\n"
     ]
    },
    {
     "data": {
      "text/html": [
       "<div>\n",
       "<style scoped>\n",
       "    .dataframe tbody tr th:only-of-type {\n",
       "        vertical-align: middle;\n",
       "    }\n",
       "\n",
       "    .dataframe tbody tr th {\n",
       "        vertical-align: top;\n",
       "    }\n",
       "\n",
       "    .dataframe thead th {\n",
       "        text-align: right;\n",
       "    }\n",
       "</style>\n",
       "<table border=\"1\" class=\"dataframe\">\n",
       "  <thead>\n",
       "    <tr style=\"text-align: right;\">\n",
       "      <th></th>\n",
       "      <th>Pearson</th>\n",
       "      <th>Cosine</th>\n",
       "    </tr>\n",
       "  </thead>\n",
       "  <tbody>\n",
       "    <tr>\n",
       "      <th>Hania</th>\n",
       "      <td>0.000000</td>\n",
       "      <td>0.000000</td>\n",
       "    </tr>\n",
       "    <tr>\n",
       "      <th>Topik Zulkarnain</th>\n",
       "      <td>0.000000</td>\n",
       "      <td>0.926506</td>\n",
       "    </tr>\n",
       "    <tr>\n",
       "      <th>AhokTemanFirli</th>\n",
       "      <td>-1.000000</td>\n",
       "      <td>0.960000</td>\n",
       "    </tr>\n",
       "    <tr>\n",
       "      <th>franadek</th>\n",
       "      <td>0.720577</td>\n",
       "      <td>0.977964</td>\n",
       "    </tr>\n",
       "    <tr>\n",
       "      <th>OM INDRA</th>\n",
       "      <td>-0.816497</td>\n",
       "      <td>0.847174</td>\n",
       "    </tr>\n",
       "    <tr>\n",
       "      <th>Mulya</th>\n",
       "      <td>1.000000</td>\n",
       "      <td>1.000000</td>\n",
       "    </tr>\n",
       "    <tr>\n",
       "      <th>Genjeh</th>\n",
       "      <td>0.707107</td>\n",
       "      <td>0.992302</td>\n",
       "    </tr>\n",
       "    <tr>\n",
       "      <th>faizah</th>\n",
       "      <td>0.000000</td>\n",
       "      <td>1.000000</td>\n",
       "    </tr>\n",
       "    <tr>\n",
       "      <th>Dpv</th>\n",
       "      <td>0.000000</td>\n",
       "      <td>0.991837</td>\n",
       "    </tr>\n",
       "    <tr>\n",
       "      <th>Putrisqiana</th>\n",
       "      <td>0.866025</td>\n",
       "      <td>0.993884</td>\n",
       "    </tr>\n",
       "    <tr>\n",
       "      <th>Nonton_Saat_Diskon</th>\n",
       "      <td>-0.196116</td>\n",
       "      <td>0.954378</td>\n",
       "    </tr>\n",
       "    <tr>\n",
       "      <th>Romantika</th>\n",
       "      <td>0.000000</td>\n",
       "      <td>0.000000</td>\n",
       "    </tr>\n",
       "    <tr>\n",
       "      <th>ANI</th>\n",
       "      <td>0.000000</td>\n",
       "      <td>0.971797</td>\n",
       "    </tr>\n",
       "    <tr>\n",
       "      <th>Rima</th>\n",
       "      <td>0.784465</td>\n",
       "      <td>0.976573</td>\n",
       "    </tr>\n",
       "    <tr>\n",
       "      <th>bunga</th>\n",
       "      <td>0.000000</td>\n",
       "      <td>0.962140</td>\n",
       "    </tr>\n",
       "    <tr>\n",
       "      <th>Jawaharal</th>\n",
       "      <td>0.880705</td>\n",
       "      <td>0.982150</td>\n",
       "    </tr>\n",
       "    <tr>\n",
       "      <th>Febi ganteng gak ada obat</th>\n",
       "      <td>0.816497</td>\n",
       "      <td>0.993569</td>\n",
       "    </tr>\n",
       "    <tr>\n",
       "      <th>Star</th>\n",
       "      <td>0.000000</td>\n",
       "      <td>0.952579</td>\n",
       "    </tr>\n",
       "    <tr>\n",
       "      <th>Indra Junior</th>\n",
       "      <td>0.000000</td>\n",
       "      <td>0.962140</td>\n",
       "    </tr>\n",
       "    <tr>\n",
       "      <th>Indra 1991 SM</th>\n",
       "      <td>0.000000</td>\n",
       "      <td>0.000000</td>\n",
       "    </tr>\n",
       "    <tr>\n",
       "      <th>Damar Teman Firli</th>\n",
       "      <td>0.000000</td>\n",
       "      <td>1.000000</td>\n",
       "    </tr>\n",
       "    <tr>\n",
       "      <th>jul</th>\n",
       "      <td>0.000000</td>\n",
       "      <td>0.962140</td>\n",
       "    </tr>\n",
       "    <tr>\n",
       "      <th>luck</th>\n",
       "      <td>1.000000</td>\n",
       "      <td>0.983870</td>\n",
       "    </tr>\n",
       "    <tr>\n",
       "      <th>Maria O.</th>\n",
       "      <td>-1.000000</td>\n",
       "      <td>0.870022</td>\n",
       "    </tr>\n",
       "  </tbody>\n",
       "</table>\n",
       "</div>"
      ],
      "text/plain": [
       "                            Pearson    Cosine\n",
       "Hania                      0.000000  0.000000\n",
       "Topik Zulkarnain           0.000000  0.926506\n",
       "AhokTemanFirli            -1.000000  0.960000\n",
       "franadek                   0.720577  0.977964\n",
       "OM INDRA                  -0.816497  0.847174\n",
       "Mulya                      1.000000  1.000000\n",
       "Genjeh                     0.707107  0.992302\n",
       "faizah                     0.000000  1.000000\n",
       "Dpv                        0.000000  0.991837\n",
       "Putrisqiana                0.866025  0.993884\n",
       "Nonton_Saat_Diskon        -0.196116  0.954378\n",
       "Romantika                  0.000000  0.000000\n",
       "ANI                        0.000000  0.971797\n",
       "Rima                       0.784465  0.976573\n",
       "bunga                      0.000000  0.962140\n",
       "Jawaharal                  0.880705  0.982150\n",
       "Febi ganteng gak ada obat  0.816497  0.993569\n",
       "Star                       0.000000  0.952579\n",
       "Indra Junior               0.000000  0.962140\n",
       "Indra 1991 SM              0.000000  0.000000\n",
       "Damar Teman Firli          0.000000  1.000000\n",
       "jul                        0.000000  0.962140\n",
       "luck                       1.000000  0.983870\n",
       "Maria O.                  -1.000000  0.870022"
      ]
     },
     "execution_count": 207,
     "metadata": {},
     "output_type": "execute_result"
    }
   ],
   "source": [
    "a=algo.compute_similarities()\n",
    "Sim1=pd.DataFrame(a,index=df['Nama Anda'].unique().tolist(),columns=df['Nama Anda'].unique().tolist())['Mulya']\n",
    "\n",
    "b=algo2.compute_similarities()\n",
    "Sim2=pd.DataFrame(b,index=df['Nama Anda'].unique().tolist(),columns=df['Nama Anda'].unique().tolist())['Mulya']\n",
    "\n",
    "Sim3 = pd.DataFrame([Sim1,Sim2],index=['Pearson','Cosine']).transpose()\n",
    "Sim3"
   ]
  },
  {
   "cell_type": "markdown",
   "metadata": {},
   "source": [
    "<br><br>\n",
    "For example, we see that user Mulya and Topik Zulkarnain has different correlation result, using pearson and cosine. But there are also few user that is quite similar like user luck. If we see our original data of these 2 account and compared it to Mulya we get :"
   ]
  },
  {
   "cell_type": "code",
   "execution_count": 210,
   "metadata": {},
   "outputs": [
    {
     "name": "stdout",
     "output_type": "stream",
     "text": [
      "   Nama Anda                           Movie  Rating\n",
      "28     Mulya                    The Avengers     4.0\n",
      "29     Mulya                        Zootopia     2.0\n",
      "30     Mulya                         Aladdin     5.0\n",
      "31     Mulya          Spider-Man: Homecoming     4.0\n",
      "32     Mulya  Guardians of the Galaxy Vol. 2     3.0\n",
      "          Nama Anda                           Movie  Rating\n",
      "5  Topik Zulkarnain                    The Avengers     5.0\n",
      "6  Topik Zulkarnain                        Zootopia     5.0\n",
      "7  Topik Zulkarnain          Spider-Man: Homecoming     4.0\n",
      "8  Topik Zulkarnain  Guardians of the Galaxy Vol. 2     2.0\n",
      "    Nama Anda                           Movie  Rating\n",
      "132      luck                          Wall-e     3.0\n",
      "133      luck                    The Avengers     4.0\n",
      "134      luck  Guardians of the Galaxy Vol. 2     2.0\n"
     ]
    }
   ],
   "source": [
    "compar=pd.DataFrame()\n",
    "print(df[df['Nama Anda']=='Mulya'])\n",
    "print(df[df['Nama Anda']=='Topik Zulkarnain'])\n",
    "print(df[df['Nama Anda']=='luck'])"
   ]
  },
  {
   "cell_type": "markdown",
   "metadata": {},
   "source": [
    "<br><br>\n",
    "You see that using intuitive, user Mulya is similiar with Topik Zukarnain and kinda difference between Luck. It looks like Cosine is better at calculated similarities compared to pearson. So, we use collaborative filtering using cosine.\n",
    "<br><br>\n",
    "If, for instances we only recomended movie that has predicted rating more than 3.9, we can get recomendation to user Mulya \n",
    "<br><br>"
   ]
  },
  {
   "cell_type": "code",
   "execution_count": 214,
   "metadata": {
    "scrolled": true
   },
   "outputs": [
    {
     "name": "stdout",
     "output_type": "stream",
     "text": [
      "User Mulya is recomended to watch ['Wall-e', 'Jaws']\n"
     ]
    }
   ],
   "source": [
    "rec_user=rec[rec['Predicted Rating']>=3.9]\n",
    "print('User {} is recomended to watch {}'.format(Name,rec_user['Movie'].tolist()))"
   ]
  },
  {
   "cell_type": "markdown",
   "metadata": {},
   "source": [
    "## Conclusion\n",
    "<br><br>\n",
    "<br>\n",
    "We can conclude that Using colabrive Filtering, we get recomendation movies for user Mulya that is <b>Wall-e</b> and <b>Jaws</b>. Using Pearson vs Cosine, in general we see that cosine is better because pearson using corelated based on ' how strong linear relationship between users ' while cosine is using ' angle ' between users. We also see that in some data, Cosine is more sense than Pearson."
   ]
  }
 ],
 "metadata": {
  "kernelspec": {
   "display_name": "Python 3",
   "language": "python",
   "name": "python3"
  },
  "language_info": {
   "codemirror_mode": {
    "name": "ipython",
    "version": 3
   },
   "file_extension": ".py",
   "mimetype": "text/x-python",
   "name": "python",
   "nbconvert_exporter": "python",
   "pygments_lexer": "ipython3",
   "version": "3.7.3"
  }
 },
 "nbformat": 4,
 "nbformat_minor": 2
}
